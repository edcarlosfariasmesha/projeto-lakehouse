{
 "cells": [
  {
   "cell_type": "code",
   "execution_count": 1,
   "id": "dd50ec60",
   "metadata": {},
   "outputs": [],
   "source": [
    "import logging\n",
    "from pyspark.sql import SparkSession, DataFrame\n",
    "import json\n",
    "from minio import Minio\n",
    "import re\n",
    "import unicodedata"
   ]
  },
  {
   "cell_type": "code",
   "execution_count": 2,
   "id": "966e7833",
   "metadata": {},
   "outputs": [],
   "source": [
    "logging.basicConfig(level=logging.INFO, format='%(asctime)s - %(levelname)s - %(message)s')\n",
    "logger = logging.getLogger(__name__)"
   ]
  },
  {
   "cell_type": "code",
   "execution_count": 3,
   "id": "7681ecd0",
   "metadata": {
    "tags": [
     "parameters"
    ]
   },
   "outputs": [],
   "source": [
    "minio_connection = \"\"  "
   ]
  },
  {
   "cell_type": "code",
   "execution_count": 4,
   "id": "f7401866",
   "metadata": {},
   "outputs": [],
   "source": [
    "# carregar para funcionar\n",
    "try:\n",
    "    minio_conn = json.loads(minio_connection)\n",
    "except json.JSONDecodeError:\n",
    "    with open('../variables/minio_connection.json', \"r\") as minio_connection_file:\n",
    "        minio_conn = json.loads(minio_connection_file.read())"
   ]
  },
  {
   "cell_type": "code",
   "execution_count": 5,
   "id": "7011294a",
   "metadata": {},
   "outputs": [],
   "source": [
    "class LazySparkSession:\n",
    "    packages = [\n",
    "        \"io.delta:delta-spark_2.13:4.0.0\",\n",
    "        \"org.apache.hadoop:hadoop-aws:3.4.0\",\n",
    "        \"com.amazonaws:aws-java-sdk-bundle:1.12.787\",\n",
    "    ]\n",
    "\n",
    "    def __init__(self, access_key, secret_key, endpoint):\n",
    "        self._access_key = access_key\n",
    "        self._secret_key = secret_key\n",
    "        self._endpoint = endpoint\n",
    "        \n",
    "\n",
    "    def start(\n",
    "        self,\n",
    "        app_name: str = \"Airflow Spark Delta Minio App\",\n",
    "        executor_memory: str = \"1g\",\n",
    "        driver_memory: str = \"1g\",\n",
    "        driver_maxresultsize: str = \"1g\",\n",
    "        master_url: str = \"local[*]\",\n",
    "    ):\n",
    "\n",
    "        builder = (\n",
    "            SparkSession\n",
    "            .Builder()\n",
    "            .appName(app_name)\n",
    "            .config(\"spark.hadoop.fs.s3a.access.key\", self._access_key)\n",
    "            .config(\"spark.hadoop.fs.s3a.secret.key\", self._secret_key)\n",
    "            .config(\"spark.hadoop.fs.s3a.endpoint\", self._endpoint)\n",
    "            .config(\"spark.hadoop.delta.enableFastS3AListFrom\", \"true\")\n",
    "            #\n",
    "            .config(\"spark.executor.memory\", executor_memory)\n",
    "            .config(\"spark.driver.memory\", driver_memory)\n",
    "            .config(\"spark.driver.maxResultSize\", driver_maxresultsize)\n",
    "            #\n",
    "            .config(\"spark.sql.extensions\", \"io.delta.sql.DeltaSparkSessionExtension\")\n",
    "            #\n",
    "            .config(\"spark.sql.catalog.spark_catalog\", \"org.apache.spark.sql.delta.catalog.DeltaCatalog\")\n",
    "            #\n",
    "            .config(\"spark.jars.packages\", \",\".join(self.packages))\n",
    "            .master(master_url)\n",
    "        )\n",
    "\n",
    "        return builder.getOrCreate()"
   ]
  },
  {
   "cell_type": "code",
   "execution_count": 6,
   "id": "61735af5",
   "metadata": {},
   "outputs": [
    {
     "name": "stderr",
     "output_type": "stream",
     "text": [
      "WARNING: Using incubator modules: jdk.incubator.vector\n",
      "Using Spark's default log4j profile: org/apache/spark/log4j2-defaults.properties\n",
      "25/08/08 12:31:30 WARN Utils: Your hostname, DESKTOP-EDEM2DH, resolves to a loopback address: 127.0.1.1; using 10.255.255.254 instead (on interface lo)\n",
      "25/08/08 12:31:30 WARN Utils: Set SPARK_LOCAL_IP if you need to bind to another address\n",
      ":: loading settings :: url = jar:file:/home/edcarlos/projeto-lakehouse/.venv/lib/python3.12/site-packages/pyspark/jars/ivy-2.5.3.jar!/org/apache/ivy/core/settings/ivysettings.xml\n",
      "Ivy Default Cache set to: /home/edcarlos/.ivy2.5.2/cache\n",
      "The jars for the packages stored in: /home/edcarlos/.ivy2.5.2/jars\n",
      "io.delta#delta-spark_2.13 added as a dependency\n",
      "org.apache.hadoop#hadoop-aws added as a dependency\n",
      "com.amazonaws#aws-java-sdk-bundle added as a dependency\n",
      ":: resolving dependencies :: org.apache.spark#spark-submit-parent-f25b4b86-411f-41e1-af60-baf03995cdf8;1.0\n",
      "\tconfs: [default]\n",
      "\tfound io.delta#delta-spark_2.13;4.0.0 in central\n",
      "\tfound io.delta#delta-storage;4.0.0 in central\n",
      "\tfound org.antlr#antlr4-runtime;4.13.1 in central\n",
      "\tfound org.apache.hadoop#hadoop-aws;3.4.0 in central\n",
      "\tfound software.amazon.awssdk#bundle;2.23.19 in central\n",
      "\tfound org.wildfly.openssl#wildfly-openssl;1.1.3.Final in central\n",
      "\tfound com.amazonaws#aws-java-sdk-bundle;1.12.787 in central\n",
      ":: resolution report :: resolve 264ms :: artifacts dl 11ms\n",
      "\t:: modules in use:\n",
      "\tcom.amazonaws#aws-java-sdk-bundle;1.12.787 from central in [default]\n",
      "\tio.delta#delta-spark_2.13;4.0.0 from central in [default]\n",
      "\tio.delta#delta-storage;4.0.0 from central in [default]\n",
      "\torg.antlr#antlr4-runtime;4.13.1 from central in [default]\n",
      "\torg.apache.hadoop#hadoop-aws;3.4.0 from central in [default]\n",
      "\torg.wildfly.openssl#wildfly-openssl;1.1.3.Final from central in [default]\n",
      "\tsoftware.amazon.awssdk#bundle;2.23.19 from central in [default]\n",
      "\t---------------------------------------------------------------------\n",
      "\t|                  |            modules            ||   artifacts   |\n",
      "\t|       conf       | number| search|dwnlded|evicted|| number|dwnlded|\n",
      "\t---------------------------------------------------------------------\n",
      "\t|      default     |   7   |   0   |   0   |   0   ||   7   |   0   |\n",
      "\t---------------------------------------------------------------------\n",
      ":: retrieving :: org.apache.spark#spark-submit-parent-f25b4b86-411f-41e1-af60-baf03995cdf8\n",
      "\tconfs: [default]\n",
      "\t0 artifacts copied, 7 already retrieved (0kB/7ms)\n",
      "25/08/08 12:31:31 WARN NativeCodeLoader: Unable to load native-hadoop library for your platform... using builtin-java classes where applicable\n",
      "Using Spark's default log4j profile: org/apache/spark/log4j2-defaults.properties\n",
      "Setting default log level to \"WARN\".\n",
      "To adjust logging level use sc.setLogLevel(newLevel). For SparkR, use setLogLevel(newLevel).\n"
     ]
    }
   ],
   "source": [
    "spark = LazySparkSession(\n",
    "    access_key=minio_conn.get(\"access_key\"), \n",
    "    secret_key=minio_conn.get(\"key\"), \n",
    "    endpoint=minio_conn.get(\"endpoint\")\n",
    ").start()"
   ]
  },
  {
   "cell_type": "code",
   "execution_count": 7,
   "id": "8e112eba",
   "metadata": {},
   "outputs": [
    {
     "name": "stderr",
     "output_type": "stream",
     "text": [
      "2025-08-08 12:31:40,231 - INFO - Cliente MinIO criado com sucesso.\n"
     ]
    }
   ],
   "source": [
    "s3_client = None\n",
    "\n",
    "try:\n",
    "    endpoint_raw = minio_conn[\"endpoint\"]\n",
    "    access_key = minio_conn[\"access_key\"]\n",
    "    secret_key = minio_conn[\"key\"]\n",
    "\n",
    "    endpoint_sem_http = endpoint_raw.replace(\"http://\", \"\").replace(\"https://\", \"\")\n",
    "    is_secure = endpoint_raw.startswith(\"https\")\n",
    "\n",
    "    s3_client = Minio(\n",
    "        endpoint=endpoint_sem_http,\n",
    "        access_key=access_key,\n",
    "        secret_key=secret_key,\n",
    "        secure=is_secure\n",
    "    )\n",
    "\n",
    "    logging.info(\"Cliente MinIO criado com sucesso.\")\n",
    "\n",
    "except KeyError as e:\n",
    "    logging.error(f\"Erro de configuração: chave ausente - {e}\")\n",
    "except Exception as e:\n",
    "    logging.error(f\"Erro ao inicializar o cliente MinIO: {e}\")"
   ]
  },
  {
   "cell_type": "code",
   "execution_count": 8,
   "id": "8491286c",
   "metadata": {},
   "outputs": [],
   "source": [
    "def remover_acentos(txt: str) -> str:\n",
    "    \"\"\"\n",
    "    Remove acentos mantendo a letra original.\n",
    "    \"\"\"\n",
    "    # Normaliza para forma NFD (separa acentos das letras)\n",
    "    nfkd = unicodedata.normalize('NFD', txt)\n",
    "    # Remove os caracteres de acento (categoria Mn = Mark, Nonspacing)\n",
    "    return \"\".join([c for c in nfkd if unicodedata.category(c) != 'Mn'])"
   ]
  },
  {
   "cell_type": "code",
   "execution_count": 9,
   "id": "8615535b",
   "metadata": {},
   "outputs": [],
   "source": [
    "def padronizar_nome_coluna(nome: str) -> str:\n",
    "    \"\"\"\n",
    "    Padroniza o nome da coluna:\n",
    "    - Remove acentos sem apagar letras\n",
    "    - Converte para minúsculas\n",
    "    - Remove caracteres especiais\n",
    "    - Substitui espaços por \"_\"\n",
    "    \"\"\"\n",
    "    nome = nome.strip().lower()\n",
    "    nome = remover_acentos(nome)\n",
    "    nome = re.sub(r\"[^\\w\\s]\", \"\", nome)  # Mantém letras, números e espaços\n",
    "    nome = re.sub(r\"\\s+\", \"_\", nome)     # Substitui espaços por _\n",
    "    return nome"
   ]
  },
  {
   "cell_type": "code",
   "execution_count": 10,
   "id": "a525d02d",
   "metadata": {},
   "outputs": [],
   "source": [
    "def padronizar_colunas(df: DataFrame) -> DataFrame:\n",
    "    \"\"\"\n",
    "    Aplica padronização em todas as colunas do DataFrame.\n",
    "    \"\"\"\n",
    "    novas_colunas = [padronizar_nome_coluna(c) for c in df.columns]\n",
    "    return df.toDF(*novas_colunas)"
   ]
  },
  {
   "cell_type": "code",
   "execution_count": 11,
   "id": "d3eef6d3",
   "metadata": {},
   "outputs": [
    {
     "name": "stderr",
     "output_type": "stream",
     "text": [
      "2025-08-08 12:31:40,273 - INFO - Lendo arquivo: s3a://landing/cno/cno/cno.csv\n"
     ]
    }
   ],
   "source": [
    "# Configurar os parâmetros para o arquivo que deseja processar\n",
    "bucket = \"landing\"\n",
    "pasta = \"cno/cno\"\n",
    "nome_arquivo = \"cno.csv\"\n",
    "\n",
    "input_path = f\"s3a://{bucket}/{pasta}/{nome_arquivo}\"\n",
    "output_path = f\"s3a://bronze/cno/cno/cno_delta/\"\n",
    "\n",
    "logger.info(f\"Lendo arquivo: {input_path}\")"
   ]
  },
  {
   "cell_type": "code",
   "execution_count": 12,
   "id": "30da1507",
   "metadata": {},
   "outputs": [
    {
     "name": "stderr",
     "output_type": "stream",
     "text": [
      "25/08/08 12:31:41 WARN MetricsConfig: Cannot locate configuration: tried hadoop-metrics2-s3a-file-system.properties,hadoop-metrics2.properties\n",
      "SLF4J: Failed to load class \"org.slf4j.impl.StaticLoggerBinder\".\n",
      "SLF4J: Defaulting to no-operation (NOP) logger implementation\n",
      "SLF4J: See http://www.slf4j.org/codes.html#StaticLoggerBinder for further details.\n",
      "2025-08-08 12:31:44,198 - INFO - Colunas originais: ['CNO', 'Código do Pais', 'Nome do pais', 'Data de início', 'Data de inicio da responsabilidade', 'Data de registro', 'CNO vinculado', 'CEP', 'NI do responsável', 'Qualificação do responsavel', 'Nome', 'Código do municipio', 'Nome do município', 'Tipo de logradouro', 'Logradouro', 'Número do logradouro', 'Bairro', 'Estado', 'Caixa Postal', 'Complemento', 'Unidade de medida', 'Área total', 'Situação', 'Data da situação', 'Nome empresarial', 'Código de localização']\n"
     ]
    }
   ],
   "source": [
    "# Ler CSV com header\n",
    "df = (\n",
    "    spark.read\n",
    "    .option(\"header\", True)\n",
    "    .option(\"encoding\", \"ISO-8859-1\")  # ou \"latin1\"\n",
    "    .csv(input_path)\n",
    ")\n",
    "logger.info(f\"Colunas originais: {df.columns}\")"
   ]
  },
  {
   "cell_type": "code",
   "execution_count": 13,
   "id": "145466b7",
   "metadata": {},
   "outputs": [
    {
     "name": "stderr",
     "output_type": "stream",
     "text": [
      "2025-08-08 12:31:44,231 - INFO - Colunas padronizadas: ['cno', 'codigo_do_pais', 'nome_do_pais', 'data_de_inicio', 'data_de_inicio_da_responsabilidade', 'data_de_registro', 'cno_vinculado', 'cep', 'ni_do_responsavel', 'qualificacao_do_responsavel', 'nome', 'codigo_do_municipio', 'nome_do_municipio', 'tipo_de_logradouro', 'logradouro', 'numero_do_logradouro', 'bairro', 'estado', 'caixa_postal', 'complemento', 'unidade_de_medida', 'area_total', 'situacao', 'data_da_situacao', 'nome_empresarial', 'codigo_de_localizacao']\n"
     ]
    }
   ],
   "source": [
    "# Padronizar nomes das colunas\n",
    "df = padronizar_colunas(df)\n",
    "\n",
    "logger.info(f\"Colunas padronizadas: {df.columns}\")"
   ]
  },
  {
   "cell_type": "code",
   "execution_count": 14,
   "id": "2277211f",
   "metadata": {},
   "outputs": [
    {
     "name": "stderr",
     "output_type": "stream",
     "text": [
      "25/08/08 12:31:44 WARN SparkStringUtils: Truncated the string representation of a plan since it was too large. This behavior can be adjusted by setting 'spark.sql.debug.maxToStringFields'.\n",
      "25/08/08 12:31:50 WARN MemoryManager: Total allocation exceeds 95.00% (1,020,054,720 bytes) of heap memory\n",
      "Scaling row group sizes to 95.00% for 8 writers\n",
      "25/08/08 12:32:03 WARN S3ABlockOutputStream: Application invoked the Syncable API against stream writing to cno/cno/cno_delta/part-00007-c860cf47-ca97-4914-96d3-0c528a2db3a8-c000.snappy.parquet. This is Unsupported\n",
      "2025-08-08 12:32:06,870 - INFO - Arquivo cno.csv processado e salvo em Delta no caminho: s3a://bronze/cno/cno/cno_delta/\n",
      "2025-08-08 12:32:09,591 - INFO - Total de linhas: 3023181                       \n"
     ]
    }
   ],
   "source": [
    "# Salvar em Delta na camada bronze\n",
    "df.write.format(\"delta\").mode(\"overwrite\").option(\"overwriteSchema\", \"true\").save(output_path)\n",
    "\n",
    "logger.info(f\"Arquivo {nome_arquivo} processado e salvo em Delta no caminho: {output_path}\")\n",
    "\n",
    "# Para verificar, conta linhas\n",
    "count = df.count()\n",
    "logger.info(f\"Total de linhas: {count}\")"
   ]
  },
  {
   "cell_type": "code",
   "execution_count": 15,
   "id": "9a762916",
   "metadata": {},
   "outputs": [
    {
     "name": "stdout",
     "output_type": "stream",
     "text": [
      "+------------+--------------+------------+--------------+----------------------------------+----------------+-------------+--------+-----------------+---------------------------+------------------------------------------+-------------------+-----------------+------------------+-------------------------------------------------------+--------------------+-------------------------------------+------+------------+----------------------------------------------+-----------------+----------+--------+----------------+-----------------------------------------+---------------------+\n",
      "|cno         |codigo_do_pais|nome_do_pais|data_de_inicio|data_de_inicio_da_responsabilidade|data_de_registro|cno_vinculado|cep     |ni_do_responsavel|qualificacao_do_responsavel|nome                                      |codigo_do_municipio|nome_do_municipio|tipo_de_logradouro|logradouro                                             |numero_do_logradouro|bairro                               |estado|caixa_postal|complemento                                   |unidade_de_medida|area_total|situacao|data_da_situacao|nome_empresarial                         |codigo_de_localizacao|\n",
      "+------------+--------------+------------+--------------+----------------------------------+----------------+-------------+--------+-----------------+---------------------------+------------------------------------------+-------------------+-----------------+------------------+-------------------------------------------------------+--------------------+-------------------------------------+------+------------+----------------------------------------------+-----------------+----------+--------+----------------+-----------------------------------------+---------------------+\n",
      "|010010092278|105           |BRASIL      |1992-02-20    |1992-02-20                        |2022-05-17      |NULL         |71215207|02688984000170   |0057                       |M H TECNOLOGIA LTDA                       |9701               |BRASÍLIA         |OUTROS            |SOF SUL QUADRA 1 CONJUNTO B                            |SN                  |ZONA INDUSTRIAL (GUARA)              |DF    |NULL        |LOTES 3/5                                     |m2               |412.00    |02      |2002-11-30      |M H TECNOLOGIA LTDA                      |NULL                 |\n",
      "|010010144970|105           |BRASIL      |1997-12-29    |1997-12-29                        |2023-05-22      |NULL         |73310303|36770931000116   |0070                       |SANTA PAULA ENGENHARIA E COMERCIO LTDA    |9701               |BRASÍLIA         |QUADRA            |QUADRA 1 BLOCO C                                       |SN                  |SETOR COMERCIAL CENTRAL (PLANALTINA) |DF    |NULL        |PLAZA SHOPPING                                |m2               |3008.56   |15      |2023-05-19      |SANTA PAULA ENGENHARIA E COMERCIO LTDA   |98PW75So+br          |\n",
      "|010010199274|105           |BRASIL      |1993-12-10    |1993-12-10                        |2022-12-13      |NULL         |70390140|00532812000188   |0070                       |CENTRO OESTE - INSTITUTO DE EDUCACAO LTDA |9701               |BRASÍLIA         |QUADRA            |SGA NORTE 605/606 CONJUNTO A                           |SN                  |ASA SUL                              |DF    |NULL        |MODULO A                                      |m2               |11785.60  |02      |1997-12-23      |CENTRO OESTE - INSTITUTO DE EDUCACAO LTDA|64JG+96              |\n",
      "|010010251669|105           |BRASIL      |2017-09-14    |2017-09-14                        |2020-09-04      |NULL         |71530065|NULL             |0070                       |ALBERY SANTINI                            |9701               |BRASÍLIA         |OUTROS            |SHIN/NORTE,  QUADRA LAGO 6, TRECHO 14 (QL 14/6), LT 16.|SN                  |SETOR DE HABITACOES                  |DF    |NULL        |NULL                                          |m2               |24.21     |15      |2019-11-01      |NULL                                     |NULL                 |\n",
      "|010010287967|105           |BRASIL      |1992-05-01    |1992-05-01                        |2019-06-24      |NULL         |71675320|NULL             |0070                       |RICARDO JOSE DE SOUZA PINHEIRO            |9701               |BRASÍLIA         |OUTROS            |SHI/SUL QI-29 CONJ. 12 CASA-16                         |SN                  |SETOR DE HABITACOES INDIVIDUAIS SUL  |DF    |NULL        |NULL                                          |m2               |381.29    |02      |1992-05-01      |NULL                                     |NULL                 |\n",
      "|010010627767|105           |BRASIL      |1993-02-26    |1993-02-26                        |2022-01-14      |NULL         |71505750|NULL             |0070                       |ANTONIO AUGUSTO AZEVEDO ARAUJO            |9701               |BRASÍLIA         |CONJUNTO          |SHI/NORTE LT 04 QL 14 CONJ 05 CASA 04                  |4                   |SETOR DE HABITACOES                  |DF    |NULL        |NULL                                          |m2               |355.45    |02      |1993-02-26      |NULL                                     |NULL                 |\n",
      "|010010840867|105           |BRASIL      |1993-02-25    |1993-02-25                        |2020-07-08      |NULL         |71741715|NULL             |0070                       |EDGARD ROSITO                             |9701               |BRASÍLIA         |QUADRA            |SMPW QUADRA 17 CONJUNTO 15                             |01                  |PARK WAY                             |DF    |NULL        |CASA C                                        |m2               |693.24    |15      |2020-11-10      |NULL                                     |NULL                 |\n",
      "|010010949160|105           |BRASIL      |2018-08-31    |2018-08-31                        |2023-02-23      |NULL         |71503506|NULL             |0057                       |l                                         |9701               |BRASÍLIA         |SETOR             |SHIN CA 06 CONJUNTO 05 LOTE                            |12                  |SETOR DE HABITACOES INDIVIDUAIS NORTE|DF    |NULL        |LAGO NORTE                                    |m2               |267.49    |15      |2020-12-04      |NULL                                     |NULL                 |\n",
      "|010010962365|105           |BRASIL      |1994-05-02    |1994-05-02                        |2020-10-06      |NULL         |71515235|NULL             |0070                       |EDSON CAIXETA DE PAULA                    |9701               |BRASÍLIA         |OUTROS            |SHIN QL 9 CONJUNTO 3                                   |10                  |SETOR DE HABITACOES INDIVIDUAIS NORTE|DF    |NULL        |NULL                                          |m2               |414.73    |15      |2005-11-10      |NULL                                     |7544xW4              |\n",
      "|010010965467|105           |BRASIL      |2002-11-25    |2002-11-25                        |2024-04-05      |NULL         |73130175|NULL             |0070                       |FRANCISCO DAS CHAGAS FONTENELE DE OLIVEIRA|9701               |BRASÍLIA         |QUADRA            |104 CONJUNTO 05                                        |LOTE-1              |SOBRADINHO-DF                        |DF    |NULL        |SETOR HABITACIONAL ALTO DA BOA VISTA          |m2               |185.00    |15      |2024-02-25      |NULL                                     |58PJ98FQ+5H          |\n",
      "|010011030062|105           |BRASIL      |1994-03-11    |1994-03-11                        |2019-09-03      |NULL         |72622303|NULL             |0070                       |CARLOS ROCHA GOMES                        |9701               |BRASÍLIA         |QUADRA            |QUADRA 310 CONJUNTO 02 CASA                            |02                  |RECANTO DAS EMAS                     |DF    |NULL        |NULL                                          |m2               |144.80    |02      |1994-03-11      |NULL                                     |NULL                 |\n",
      "|010011090267|105           |BRASIL      |1994-01-01    |1994-01-01                        |2024-11-06      |NULL         |72110015|NULL             |0070                       |NULL                                      |9701               |BRASÍLIA         |RUA               |CNA 1                                                  |1                   |TAGUATINGA NORTE (TAGUATINGA)        |DF    |NULL        |NULL                                          |m2               |853.89    |02      |1994-01-01      |NULL                                     |00005WFR+FC          |\n",
      "|010011090462|105           |BRASIL      |2002-01-01    |2002-01-01                        |2021-05-11      |NULL         |72600403|NULL             |0070                       |VALQUIRIA ROSA RODRIGUES                  |9701               |BRASÍLIA         |QUADRA            |104 CONJUNTO 03 LOTE 23                                |SN                  |RECANTO DAS EMAS                     |DF    |NULL        |NULL                                          |m2               |180.50    |15      |2009-12-31      |NULL                                     |NULL                 |\n",
      "|010011110269|105           |BRASIL      |2002-11-30    |2002-11-30                        |2020-08-04      |NULL         |72601405|NULL             |0070                       |PAULO BRAGA FILHO                         |9701               |BRASÍLIA         |QUADRA            |108 CONJUNTO 04 CASA                                   |17                  |RECANTO DAS EMAS                     |DF    |NULL        |NULL                                          |m2               |214.65    |15      |2016-10-30      |NULL                                     |3WR6+J3              |\n",
      "|010011141767|105           |BRASIL      |2012-02-09    |2012-02-09                        |2024-03-26      |NULL         |72020015|NULL             |0070                       |MAGNO DE SOUZA ROSA                       |9701               |BRASÍLIA         |LOTEAMENTO        |CSD 01                                                 |LOTE 0              |TAGUATINGA SUL                       |DF    |NULL        |NULL                                          |m2               |665.03    |15      |2016-03-22      |NULL                                     |58PH4W3W+87          |\n",
      "|010011146566|105           |BRASIL      |1994-05-13    |1994-05-13                        |2022-10-04      |NULL         |71730050|NULL             |0070                       |JORIVE DE FATIMA DA SILVA ARAUJO          |9701               |BRASÍLIA         |RUA               |RUA 12-A LOTE NR                                       |11                  |METROPOLITANA (NUCLEO BANDEIRANTE)   |DF    |NULL        |METROPOLITANA                                 |m2               |110.25    |15      |2013-10-04      |NULL                                     |NULL                 |\n",
      "|010011151965|105           |BRASIL      |1994-05-18    |1994-05-18                        |2021-03-18      |NULL         |72125020|NULL             |0070                       |NIVALDO DE CARVALHO LEODIDO               |9701               |BRASÍLIA         |QUADRA            |QNE                                                    |02                  |TAGUATINGA NORTE                     |DF    |NULL        |CASA 16                                       |m2               |390.00    |02      |1994-05-18      |NULL                                     |NULL                 |\n",
      "|010011180662|105           |BRASIL      |1996-03-28    |1996-03-28                        |2024-01-23      |NULL         |72622310|NULL             |0070                       |MARIA DE JESUS PEREIRA TORRES             |9701               |BRASÍLIA         |QUADRA            |QUADRA 310 CONJUNTO 8                                  |S/Nº                |RECANTO DAS EMAS                     |DF    |NULL        |LOTE 3                                        |m2               |233.62    |15      |1997-03-30      |NULL                                     |58PH3VCV+WF          |\n",
      "|010011180764|105           |BRASIL      |1994-07-22    |1994-07-22                        |2020-06-18      |NULL         |72120060|NULL             |0070                       |JOACIR GOMES DOS SANTOS                   |9701               |BRASÍLIA         |RUA               |QND 06                                                 |37                  |TAGUATINGA NORTE                     |DF    |NULL        |NULL                                          |m2               |405.39    |15      |2014-01-20      |NULL                                     |NULL                 |\n",
      "|010011193665|105           |BRASIL      |2008-05-15    |2008-05-15                        |2024-04-09      |NULL         |73105903|NULL             |0057                       |null                                      |9701               |BRASÍLIA         |RODOVIA           |DF-150 KM 2,5                                          |LOTE 1              |GRANDE COLORADO (SOBRADINHO)         |DF    |NULL        |LOTEAMENTO URBANO SOLAR DE ATHENAS, CONJUNTO D|m2               |389.94    |15      |2009-08-15      |NULL                                     |58PJ85M2+V8          |\n",
      "+------------+--------------+------------+--------------+----------------------------------+----------------+-------------+--------+-----------------+---------------------------+------------------------------------------+-------------------+-----------------+------------------+-------------------------------------------------------+--------------------+-------------------------------------+------+------------+----------------------------------------------+-----------------+----------+--------+----------------+-----------------------------------------+---------------------+\n",
      "only showing top 20 rows\n"
     ]
    }
   ],
   "source": [
    "df.show(20, truncate=False)"
   ]
  },
  {
   "cell_type": "code",
   "execution_count": 16,
   "id": "e4c3a778",
   "metadata": {},
   "outputs": [],
   "source": [
    "spark.stop()"
   ]
  }
 ],
 "metadata": {
  "kernelspec": {
   "display_name": "projeto-lakehouse (3.12.3)",
   "language": "python",
   "name": "python3"
  },
  "language_info": {
   "codemirror_mode": {
    "name": "ipython",
    "version": 3
   },
   "file_extension": ".py",
   "mimetype": "text/x-python",
   "name": "python",
   "nbconvert_exporter": "python",
   "pygments_lexer": "ipython3",
   "version": "3.12.3"
  }
 },
 "nbformat": 4,
 "nbformat_minor": 5
}
