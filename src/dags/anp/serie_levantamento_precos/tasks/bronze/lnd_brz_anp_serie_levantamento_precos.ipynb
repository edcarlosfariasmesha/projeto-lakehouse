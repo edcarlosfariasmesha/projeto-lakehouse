{
 "cells": [
  {
   "cell_type": "code",
   "execution_count": null,
   "id": "dd50ec60",
   "metadata": {},
   "outputs": [],
   "source": [
    "import io\n",
    "import json\n",
    "import logging\n",
    "import os\n",
    "import re\n",
    "import unicodedata\n",
    "\n",
    "import pandas as pd\n",
    "from minio import Minio\n",
    "from pyspark.sql import SparkSession\n",
    "from pyspark.sql.functions import current_timestamp, lit"
   ]
  },
  {
   "cell_type": "code",
   "execution_count": null,
   "id": "7681ecd0",
   "metadata": {
    "tags": [
     "parameters"
    ]
   },
   "outputs": [],
   "source": [
    "minio_connection = \"\"  "
   ]
  },
  {
   "cell_type": "code",
   "execution_count": null,
   "id": "f7401866",
   "metadata": {},
   "outputs": [],
   "source": [
    "try:\n",
    "    minio_conn = json.loads(minio_connection)\n",
    "except json.JSONDecodeError:\n",
    "    with open('../variables/minio_connection.json', \"r\") as minio_connection_file:\n",
    "        minio_conn = json.loads(minio_connection_file.read())"
   ]
  },
  {
   "cell_type": "code",
   "execution_count": null,
   "id": "191d8a0a",
   "metadata": {},
   "outputs": [],
   "source": [
    "class LazySparkSession:\n",
    "    packages = [\n",
    "        \"io.delta:delta-spark_2.13:4.0.0\",\n",
    "        \"org.apache.hadoop:hadoop-aws:3.4.0\",\n",
    "        \"com.amazonaws:aws-java-sdk-bundle:1.12.787\",\n",
    "    ]\n",
    "\n",
    "    def __init__(self, access_key, secret_key, endpoint):\n",
    "        self._access_key = access_key\n",
    "        self._secret_key = secret_key\n",
    "        self._endpoint = endpoint\n",
    "        \n",
    "\n",
    "    def start(\n",
    "        self,\n",
    "        app_name: str = \"Airflow Spark Delta Minio App\",\n",
    "        executor_memory: str = \"1g\",\n",
    "        driver_memory: str = \"1g\",\n",
    "        driver_maxresultsize: str = \"1g\",\n",
    "        master_url: str = \"local[*]\",\n",
    "    ):\n",
    "\n",
    "        builder = (\n",
    "            SparkSession\n",
    "            .Builder()\n",
    "            .appName(\"XLSX to Delta Bronze\")\n",
    "            .config(\"spark.hadoop.fs.s3a.access.key\", self._access_key)\n",
    "            .config(\"spark.hadoop.fs.s3a.secret.key\", self._secret_key)\n",
    "            .config(\"spark.hadoop.fs.s3a.endpoint\", self._endpoint)\n",
    "            .config(\"spark.hadoop.delta.enableFastS3AListFrom\", \"true\")\n",
    "            #\n",
    "            .config(\"spark.executor.memory\", executor_memory)\n",
    "            .config(\"spark.driver.memory\", driver_memory)\n",
    "            .config(\"spark.driver.maxResultSize\", driver_maxresultsize)\n",
    "            #\n",
    "            .config(\"spark.sql.extensions\", \"io.delta.sql.DeltaSparkSessionExtension\")\n",
    "            #\n",
    "            .config(\"spark.sql.catalog.spark_catalog\", \"org.apache.spark.sql.delta.catalog.DeltaCatalog\")\n",
    "            #\n",
    "            .config(\"spark.jars.packages\", \",\".join(self.packages))\n",
    "            .config(\"spark.ui.port\", \"0\")\n",
    "            .master(master_url)\n",
    "            \n",
    "        )\n",
    "\n",
    "        return builder.getOrCreate()"
   ]
  },
  {
   "cell_type": "code",
   "execution_count": null,
   "id": "d3b73640",
   "metadata": {},
   "outputs": [],
   "source": [
    "spark = LazySparkSession(\n",
    "    access_key=minio_conn.get(\"access_key\"), \n",
    "    secret_key=minio_conn.get(\"key\"), \n",
    "    endpoint=minio_conn.get(\"endpoint\")\n",
    ").start()"
   ]
  },
  {
   "cell_type": "code",
   "execution_count": null,
   "id": "7bcac482",
   "metadata": {},
   "outputs": [],
   "source": [
    "endpoint_raw = minio_conn[\"endpoint\"]\n",
    "endpoint_sem_http = endpoint_raw.replace(\"http://\", \"\").replace(\"https://\", \"\")\n",
    "\n",
    "s3_client = Minio(\n",
    "    endpoint=endpoint_sem_http,\n",
    "    access_key=minio_conn['access_key'],\n",
    "    secret_key=minio_conn['key'],\n",
    "    secure=endpoint_raw.startswith(\"https\")\n",
    ")"
   ]
  },
  {
   "cell_type": "code",
   "execution_count": null,
   "id": "f972e426",
   "metadata": {},
   "outputs": [],
   "source": [
    "# Configuração básica de logging\n",
    "logging.basicConfig(level=logging.INFO, format=\"%(asctime)s - %(levelname)s - %(message)s\")"
   ]
  },
  {
   "cell_type": "code",
   "execution_count": null,
   "id": "de0ce369",
   "metadata": {},
   "outputs": [],
   "source": [
    "# Variáveis do projeto\n",
    "bucket_landing = \"landing\"\n",
    "bucket_bronze = \"bronze\"\n",
    "prefix_landing = \"anp/serie_levantamento_precos/\""
   ]
  },
  {
   "cell_type": "code",
   "execution_count": null,
   "id": "4218ec35",
   "metadata": {},
   "outputs": [],
   "source": [
    "# Limpar e padronizar nome das colunas\n",
    "def limpar_nome_colunas_spark(spark_df):\n",
    "    \"\"\"\n",
    "    Limpa e padroniza as colunas do Dataframe.\n",
    "    Remove acentos.\n",
    "    Substitui caracteres não alfanumericos por underscore (_).\n",
    "    Remove múltiplos underscores.\n",
    "    \"\"\"\n",
    "\n",
    "    novas_colunas=[]\n",
    "    for coluna in spark_df.columns:\n",
    "        coluna_sem_acento = unicodedata.normalize(\"NFKD\", coluna).encode(\"ASCII\", \"ignore\").decode(\"ASCII\")\n",
    "        coluna_limpa = re.sub(r'[^a-zA-Z0-9_-]', '-', coluna_sem_acento)\n",
    "        coluna_lower = coluna_limpa.lower()\n",
    "        coluna_final = re.sub(r'_+', '_', coluna_lower).strip('_')\n",
    "        novas_colunas.append(coluna_final)\n",
    "\n",
    "    # Renomeia todas as colunas de uma vez\n",
    "    return spark_df.toDF(*novas_colunas)"
   ]
  },
  {
   "cell_type": "code",
   "execution_count": null,
   "id": "80388626",
   "metadata": {},
   "outputs": [],
   "source": [
    "# Listar arquivos .xlsx\n",
    "def listar_arquivos_xlsx(bucket: str, prefix: str) -> list:\n",
    "    try:\n",
    "        arquivos = s3_client.list_objects(bucket, prefix=prefix, recursive=True)\n",
    "        lista = [obj.object_name for obj in arquivos if obj.object_name.endswith(\".xlsx\")]\n",
    "        logging.info(f\"{len(lista)} arquivos .xlsx encontrados em s3://{bucket}/{prefix}\")\n",
    "        return lista\n",
    "    except Exception as e:\n",
    "        logging.error(f\"Erro ao listar arquivos: {e}\")\n",
    "        return []"
   ]
  },
  {
   "cell_type": "code",
   "execution_count": null,
   "id": "df647fe0",
   "metadata": {},
   "outputs": [],
   "source": [
    "# Leitura específica para este formato de arquivo\n",
    "def ler_arquivos_anp(bucket: str, caminho_arquivo: str) -> pd.DataFrame:\n",
    "    try:\n",
    "        logging.info(f\"Lendo arquivo com layout específico: {caminho_arquivo}\")\n",
    "        resposta = s3_client.get_object(bucket, caminho_arquivo)\n",
    "\n",
    "        # Parâmetros descobertos na inspeção\n",
    "        df = pd.read_excel(\n",
    "            io.BytesIO(resposta.read()),\n",
    "            engine=\"openpyxl\",\n",
    "            header=11,              # Cabeçalho indice 11\n",
    "            skipfooter=12           # Conteúdo começa indice 12\n",
    "        )\n",
    "        \n",
    "        # Remove colunas que foram criadas sem nome\n",
    "        df.dropna(axis=1, how='all', inplace=True)\n",
    "\n",
    "        return df\n",
    "    except Exception as e:\n",
    "        logging.error(f\"Erro ao ler arquivo {caminho_arquivo}: {e}\")\n",
    "        raise"
   ]
  },
  {
   "cell_type": "code",
   "execution_count": null,
   "id": "b411c359",
   "metadata": {},
   "outputs": [],
   "source": [
    "# Salvar como Delta\n",
    "def salvar_como_delta(spark_df, nome_arquivo: str):\n",
    "    nome_limpo = os.path.splitext(os.path.basename(nome_arquivo))[0]\n",
    "    nome_limpo_sanitizado = re.sub(r'[^a-zA-Z0-9_-]', '-', nome_limpo)\n",
    "\n",
    "    caminho_bronze = f\"s3a://{bucket_bronze}/anp/precos-combustiveis/{nome_limpo_sanitizado}\"\n",
    "\n",
    "    df_final = (\n",
    "        spark_df.withColumn(\"_carga_data\", current_timestamp())\n",
    "                .withColumn(\"_arquivo_origem\", lit(nome_arquivo))\n",
    "    )\n",
    "\n",
    "    df_final.write.format(\"delta\").mode(\"overwrite\").save(caminho_bronze)\n",
    "    logging.info(f\"Arquivo salvo com sucesso: {caminho_bronze}\")"
   ]
  },
  {
   "cell_type": "code",
   "execution_count": null,
   "id": "4e871ed2",
   "metadata": {},
   "outputs": [],
   "source": [
    "# --- Execução principal\n",
    "arquivos = listar_arquivos_xlsx(bucket_landing, prefix_landing)\n",
    "\n",
    "for arquivo in arquivos:\n",
    "    try:\n",
    "        df_pandas = ler_arquivos_anp(bucket_landing, arquivo)\n",
    "        df_spark = spark.createDataFrame(df_pandas)\n",
    "        df_spark_limpo = limpar_nome_colunas_spark(df_spark)\n",
    "        salvar_como_delta(df_spark_limpo, os.path.basename(arquivo))\n",
    "    except Exception as e:\n",
    "        logging.error(f\"Erro ao processar {arquivo}: {e}\")"
   ]
  }
 ],
 "metadata": {
  "kernelspec": {
   "display_name": "projeto-lakehouse (3.12.3)",
   "language": "python",
   "name": "python3"
  },
  "language_info": {
   "codemirror_mode": {
    "name": "ipython",
    "version": 3
   },
   "file_extension": ".py",
   "mimetype": "text/x-python",
   "name": "python",
   "nbconvert_exporter": "python",
   "pygments_lexer": "ipython3",
   "version": "3.12.3"
  }
 },
 "nbformat": 4,
 "nbformat_minor": 5
}
