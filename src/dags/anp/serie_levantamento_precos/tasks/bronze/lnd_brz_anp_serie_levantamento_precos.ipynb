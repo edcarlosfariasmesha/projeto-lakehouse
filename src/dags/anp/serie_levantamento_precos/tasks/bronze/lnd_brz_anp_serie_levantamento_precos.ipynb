{
 "cells": [
  {
   "cell_type": "code",
   "execution_count": 1,
   "id": "dd50ec60",
   "metadata": {},
   "outputs": [],
   "source": [
    "import os\n",
    "import logging\n",
    "import io\n",
    "from pyspark.sql import SparkSession\n",
    "from pyspark.sql.functions import lit, current_timestamp\n",
    "import json\n",
    "from minio import Minio\n",
    "import pandas as pd\n",
    "import unicodedata\n",
    "import re"
   ]
  },
  {
   "cell_type": "code",
   "execution_count": 2,
   "id": "7681ecd0",
   "metadata": {
    "tags": [
     "parameters"
    ]
   },
   "outputs": [],
   "source": [
    "minio_connection = \"\"  "
   ]
  },
  {
   "cell_type": "code",
   "execution_count": null,
   "id": "f7401866",
   "metadata": {},
   "outputs": [],
   "source": [
    "try:\n",
    "    minio_conn = json.loads(minio_connection)\n",
    "except json.JSONDecodeError:\n",
    "    with open('../variables/minio_connection.json', \"r\") as minio_connection_file:\n",
    "        minio_conn = json.loads(minio_connection_file.read())"
   ]
  },
  {
   "cell_type": "code",
   "execution_count": 4,
   "id": "191d8a0a",
   "metadata": {},
   "outputs": [],
   "source": [
    "class LazySparkSession:\n",
    "    packages = [\n",
    "        \"io.delta:delta-spark_2.13:4.0.0\",\n",
    "        \"org.apache.hadoop:hadoop-aws:3.4.0\",\n",
    "        \"com.amazonaws:aws-java-sdk-bundle:1.12.787\",\n",
    "    ]\n",
    "\n",
    "    def __init__(self, access_key, secret_key, endpoint):\n",
    "        self._access_key = access_key\n",
    "        self._secret_key = secret_key\n",
    "        self._endpoint = endpoint\n",
    "        \n",
    "\n",
    "    def start(\n",
    "        self,\n",
    "        app_name: str = \"Airflow Spark Delta Minio App\",\n",
    "        executor_memory: str = \"1g\",\n",
    "        driver_memory: str = \"1g\",\n",
    "        driver_maxresultsize: str = \"1g\",\n",
    "        master_url: str = \"local[*]\",\n",
    "    ):\n",
    "\n",
    "        builder = (\n",
    "            SparkSession\n",
    "            .Builder()\n",
    "            .appName(\"XLSX to Delta Bronze\")\n",
    "            .config(\"spark.hadoop.fs.s3a.access.key\", self._access_key)\n",
    "            .config(\"spark.hadoop.fs.s3a.secret.key\", self._secret_key)\n",
    "            .config(\"spark.hadoop.fs.s3a.endpoint\", self._endpoint)\n",
    "            .config(\"spark.hadoop.delta.enableFastS3AListFrom\", \"true\")\n",
    "            #\n",
    "            .config(\"spark.executor.memory\", executor_memory)\n",
    "            .config(\"spark.driver.memory\", driver_memory)\n",
    "            .config(\"spark.driver.maxResultSize\", driver_maxresultsize)\n",
    "            #\n",
    "            .config(\"spark.sql.extensions\", \"io.delta.sql.DeltaSparkSessionExtension\")\n",
    "            #\n",
    "            .config(\"spark.sql.catalog.spark_catalog\", \"org.apache.spark.sql.delta.catalog.DeltaCatalog\")\n",
    "            #\n",
    "            .config(\"spark.jars.packages\", \",\".join(self.packages))\n",
    "            .config(\"spark.ui.port\", \"0\")\n",
    "            .master(master_url)\n",
    "            \n",
    "        )\n",
    "\n",
    "        return builder.getOrCreate()"
   ]
  },
  {
   "cell_type": "code",
   "execution_count": 5,
   "id": "d3b73640",
   "metadata": {},
   "outputs": [
    {
     "name": "stderr",
     "output_type": "stream",
     "text": [
      "WARNING: Using incubator modules: jdk.incubator.vector\n",
      "Using Spark's default log4j profile: org/apache/spark/log4j2-defaults.properties\n",
      "25/08/04 13:12:28 WARN Utils: Your hostname, DESKTOP-EDEM2DH, resolves to a loopback address: 127.0.1.1; using 10.255.255.254 instead (on interface lo)\n",
      "25/08/04 13:12:28 WARN Utils: Set SPARK_LOCAL_IP if you need to bind to another address\n",
      ":: loading settings :: url = jar:file:/home/edcarlos/projeto-lakehouse/.venv/lib/python3.12/site-packages/pyspark/jars/ivy-2.5.3.jar!/org/apache/ivy/core/settings/ivysettings.xml\n",
      "Ivy Default Cache set to: /home/edcarlos/.ivy2.5.2/cache\n",
      "The jars for the packages stored in: /home/edcarlos/.ivy2.5.2/jars\n",
      "io.delta#delta-spark_2.13 added as a dependency\n",
      "org.apache.hadoop#hadoop-aws added as a dependency\n",
      "com.amazonaws#aws-java-sdk-bundle added as a dependency\n",
      ":: resolving dependencies :: org.apache.spark#spark-submit-parent-92ff157b-9486-422c-b652-8e0604e09622;1.0\n",
      "\tconfs: [default]\n",
      "\tfound io.delta#delta-spark_2.13;4.0.0 in central\n",
      "\tfound io.delta#delta-storage;4.0.0 in central\n",
      "\tfound org.antlr#antlr4-runtime;4.13.1 in central\n",
      "\tfound org.apache.hadoop#hadoop-aws;3.4.0 in central\n",
      "\tfound software.amazon.awssdk#bundle;2.23.19 in central\n",
      "\tfound org.wildfly.openssl#wildfly-openssl;1.1.3.Final in central\n",
      "\tfound com.amazonaws#aws-java-sdk-bundle;1.12.787 in central\n",
      ":: resolution report :: resolve 241ms :: artifacts dl 11ms\n",
      "\t:: modules in use:\n",
      "\tcom.amazonaws#aws-java-sdk-bundle;1.12.787 from central in [default]\n",
      "\tio.delta#delta-spark_2.13;4.0.0 from central in [default]\n",
      "\tio.delta#delta-storage;4.0.0 from central in [default]\n",
      "\torg.antlr#antlr4-runtime;4.13.1 from central in [default]\n",
      "\torg.apache.hadoop#hadoop-aws;3.4.0 from central in [default]\n",
      "\torg.wildfly.openssl#wildfly-openssl;1.1.3.Final from central in [default]\n",
      "\tsoftware.amazon.awssdk#bundle;2.23.19 from central in [default]\n",
      "\t---------------------------------------------------------------------\n",
      "\t|                  |            modules            ||   artifacts   |\n",
      "\t|       conf       | number| search|dwnlded|evicted|| number|dwnlded|\n",
      "\t---------------------------------------------------------------------\n",
      "\t|      default     |   7   |   0   |   0   |   0   ||   7   |   0   |\n",
      "\t---------------------------------------------------------------------\n",
      ":: retrieving :: org.apache.spark#spark-submit-parent-92ff157b-9486-422c-b652-8e0604e09622\n",
      "\tconfs: [default]\n",
      "\t0 artifacts copied, 7 already retrieved (0kB/7ms)\n",
      "25/08/04 13:12:29 WARN NativeCodeLoader: Unable to load native-hadoop library for your platform... using builtin-java classes where applicable\n",
      "Using Spark's default log4j profile: org/apache/spark/log4j2-defaults.properties\n",
      "Setting default log level to \"WARN\".\n",
      "To adjust logging level use sc.setLogLevel(newLevel). For SparkR, use setLogLevel(newLevel).\n"
     ]
    }
   ],
   "source": [
    "spark = LazySparkSession(\n",
    "    access_key=minio_conn.get(\"access_key\"), \n",
    "    secret_key=minio_conn.get(\"key\"), \n",
    "    endpoint=minio_conn.get(\"endpoint\")\n",
    ").start()"
   ]
  },
  {
   "cell_type": "code",
   "execution_count": 6,
   "id": "7bcac482",
   "metadata": {},
   "outputs": [],
   "source": [
    "endpoint_raw = minio_conn[\"endpoint\"]\n",
    "endpoint_sem_http = endpoint_raw.replace(\"http://\", \"\").replace(\"https://\", \"\")\n",
    "\n",
    "s3_client = Minio(\n",
    "    endpoint=endpoint_sem_http,\n",
    "    access_key=minio_conn['access_key'],\n",
    "    secret_key=minio_conn['key'],\n",
    "    secure=endpoint_raw.startswith(\"https\")\n",
    ")"
   ]
  },
  {
   "cell_type": "code",
   "execution_count": 7,
   "id": "f972e426",
   "metadata": {},
   "outputs": [],
   "source": [
    "# Configuração básica de logging\n",
    "logging.basicConfig(level=logging.INFO, format=\"%(asctime)s - %(levelname)s - %(message)s\")"
   ]
  },
  {
   "cell_type": "code",
   "execution_count": 8,
   "id": "de0ce369",
   "metadata": {},
   "outputs": [],
   "source": [
    "# Variáveis do projeto\n",
    "bucket_landing = \"landing\"\n",
    "bucket_bronze = \"bronze\"\n",
    "prefix_landing = \"anp/serie_levantamento_precos/\""
   ]
  },
  {
   "cell_type": "code",
   "execution_count": 9,
   "id": "4218ec35",
   "metadata": {},
   "outputs": [],
   "source": [
    "# Limpar e padronizar nome das colunas\n",
    "def limpar_nome_colunas_spark(spark_df):\n",
    "    \"\"\"\n",
    "    Limpa e padroniza as colunas do Dataframe.\n",
    "    Remove acentos.\n",
    "    Substitui caracteres não alfanumericos por underscore (_).\n",
    "    Remove múltiplos underscores.\n",
    "    \"\"\"\n",
    "\n",
    "    novas_colunas=[]\n",
    "    for coluna in spark_df.columns:\n",
    "        coluna_sem_acento = unicodedata.normalize(\"NFKD\", coluna).encode(\"ASCII\", \"ignore\").decode(\"ASCII\")\n",
    "        coluna_limpa = re.sub(r'[^a-zA-Z0-9_-]', '-', coluna_sem_acento)\n",
    "        coluna_lower = coluna_limpa.lower()\n",
    "        coluna_final = re.sub(r'_+', '_', coluna_lower).strip('_')\n",
    "        novas_colunas.append(coluna_final)\n",
    "\n",
    "    # Renomeia todas as colunas de uma vez\n",
    "    return spark_df.toDF(*novas_colunas)"
   ]
  },
  {
   "cell_type": "code",
   "execution_count": 10,
   "id": "80388626",
   "metadata": {},
   "outputs": [],
   "source": [
    "# Listar arquivos .xlsx\n",
    "def listar_arquivos_xlsx(bucket: str, prefix: str) -> list:\n",
    "    try:\n",
    "        arquivos = s3_client.list_objects(bucket, prefix=prefix, recursive=True)\n",
    "        lista = [obj.object_name for obj in arquivos if obj.object_name.endswith(\".xlsx\")]\n",
    "        logging.info(f\"{len(lista)} arquivos .xlsx encontrados em s3://{bucket}/{prefix}\")\n",
    "        return lista\n",
    "    except Exception as e:\n",
    "        logging.error(f\"Erro ao listar arquivos: {e}\")\n",
    "        return []"
   ]
  },
  {
   "cell_type": "code",
   "execution_count": 11,
   "id": "df647fe0",
   "metadata": {},
   "outputs": [],
   "source": [
    "# Leitura específica para este formato de arquivo\n",
    "def ler_arquivos_anp(bucket: str, caminho_arquivo: str) -> pd.DataFrame:\n",
    "    try:\n",
    "        logging.info(f\"Lendo arquivo com layout específico: {caminho_arquivo}\")\n",
    "        resposta = s3_client.get_object(bucket, caminho_arquivo)\n",
    "\n",
    "        # Parâmetros descobertos na inspeção\n",
    "        df = pd.read_excel(\n",
    "            io.BytesIO(resposta.read()),\n",
    "            engine=\"openpyxl\",\n",
    "            header=11,              # Cabeçalho indice 11\n",
    "            skipfooter=12           # Conteúdo começa indice 12\n",
    "        )\n",
    "        \n",
    "        # Remove colunas que foram criadas sem nome\n",
    "        df.dropna(axis=1, how='all', inplace=True)\n",
    "\n",
    "        return df\n",
    "    except Exception as e:\n",
    "        logging.error(f\"Erro ao ler arquivo {caminho_arquivo}: {e}\")\n",
    "        raise"
   ]
  },
  {
   "cell_type": "code",
   "execution_count": 12,
   "id": "b411c359",
   "metadata": {},
   "outputs": [],
   "source": [
    "# Salvar como Delta\n",
    "def salvar_como_delta(spark_df, nome_arquivo: str):\n",
    "    nome_limpo = os.path.splitext(os.path.basename(nome_arquivo))[0]\n",
    "    nome_limpo_sanitizado = re.sub(r'[^a-zA-Z0-9_-]', '-', nome_limpo)\n",
    "\n",
    "    caminho_bronze = f\"s3a://{bucket_bronze}/anp/precos-combustiveis/{nome_limpo_sanitizado}\"\n",
    "\n",
    "    df_final = (\n",
    "        spark_df.withColumn(\"_carga_data\", current_timestamp())\n",
    "                .withColumn(\"_arquivo_origem\", lit(nome_arquivo))\n",
    "    )\n",
    "\n",
    "    df_final.write.format(\"delta\").mode(\"overwrite\").save(caminho_bronze)\n",
    "    logging.info(f\"Arquivo salvo com sucesso: {caminho_bronze}\")"
   ]
  },
  {
   "cell_type": "code",
   "execution_count": 13,
   "id": "4e871ed2",
   "metadata": {},
   "outputs": [
    {
     "name": "stderr",
     "output_type": "stream",
     "text": [
      "2025-08-04 13:12:36,858 - INFO - 10 arquivos .xlsx encontrados em s3://landing/anp/serie_levantamento_precos/\n",
      "2025-08-04 13:12:36,859 - INFO - Lendo arquivo com layout específico: anp/serie_levantamento_precos/mensal-brasil-2001-a-2012.xlsx\n",
      "2025-08-04 13:12:36,859 - INFO - Lendo arquivo com layout específico: anp/serie_levantamento_precos/mensal-brasil-2001-a-2012.xlsx\n",
      "25/08/04 13:12:38 WARN MetricsConfig: Cannot locate configuration: tried hadoop-metrics2-s3a-file-system.properties,hadoop-metrics2.properties\n",
      "SLF4J: Failed to load class \"org.slf4j.impl.StaticLoggerBinder\".\n",
      "SLF4J: Defaulting to no-operation (NOP) logger implementation\n",
      "SLF4J: See http://www.slf4j.org/codes.html#StaticLoggerBinder for further details.\n",
      "25/08/04 13:12:39 WARN SparkStringUtils: Truncated the string representation of a plan since it was too large. This behavior can be adjusted by setting 'spark.sql.debug.maxToStringFields'.\n",
      "25/08/04 13:12:45 WARN MemoryManager: Total allocation exceeds 95.00% (1,020,054,720 bytes) of heap memory\n",
      "Scaling row group sizes to 95.00% for 8 writers\n",
      "25/08/04 13:12:46 WARN S3ABlockOutputStream: Application invoked the Syncable API against stream writing to anp/precos-combustiveis/mensal-brasil-2001-a-2012/part-00004-87d60939-d104-4176-9315-8e245458b3a2-c000.snappy.parquet. This is Unsupported\n",
      "2025-08-04 13:12:48,315 - INFO - Arquivo salvo com sucesso: s3a://bronze/anp/precos-combustiveis/mensal-brasil-2001-a-2012\n",
      "2025-08-04 13:12:48,316 - INFO - Lendo arquivo com layout específico: anp/serie_levantamento_precos/mensal-brasil-desde-jan2013.xlsx\n",
      "25/08/04 13:12:49 WARN MemoryManager: Total allocation exceeds 95.00% (1,020,054,720 bytes) of heap memory\n",
      "Scaling row group sizes to 95.00% for 8 writers\n",
      "2025-08-04 13:12:50,938 - INFO - Arquivo salvo com sucesso: s3a://bronze/anp/precos-combustiveis/mensal-brasil-desde-jan2013\n",
      "2025-08-04 13:12:50,939 - INFO - Lendo arquivo com layout específico: anp/serie_levantamento_precos/mensal-estados-2001-a-2012.xlsx\n",
      "25/08/04 13:12:54 WARN MemoryManager: Total allocation exceeds 95.00% (1,020,054,720 bytes) of heap memory\n",
      "Scaling row group sizes to 95.00% for 8 writers\n",
      "2025-08-04 13:12:56,025 - INFO - Arquivo salvo com sucesso: s3a://bronze/anp/precos-combustiveis/mensal-estados-2001-a-2012\n",
      "2025-08-04 13:12:56,026 - INFO - Lendo arquivo com layout específico: anp/serie_levantamento_precos/mensal-estados-desde-jan2013.xlsx\n",
      "25/08/04 13:13:00 WARN MemoryManager: Total allocation exceeds 95.00% (1,020,054,720 bytes) of heap memory\n",
      "Scaling row group sizes to 95.00% for 8 writers\n",
      "2025-08-04 13:13:01,878 - INFO - Arquivo salvo com sucesso: s3a://bronze/anp/precos-combustiveis/mensal-estados-desde-jan2013\n",
      "2025-08-04 13:13:01,879 - INFO - Lendo arquivo com layout específico: anp/serie_levantamento_precos/mensal-municipios-2013-a-2015.xlsx\n",
      "25/08/04 13:13:17 WARN TaskSetManager: Stage 54 contains a task of very large size (1388 KiB). The maximum recommended task size is 1000 KiB.\n",
      "25/08/04 13:13:17 WARN MemoryManager: Total allocation exceeds 95.00% (1,020,054,720 bytes) of heap memory\n",
      "Scaling row group sizes to 95.00% for 8 writers\n",
      "2025-08-04 13:13:19,675 - INFO - Arquivo salvo com sucesso: s3a://bronze/anp/precos-combustiveis/mensal-municipios-2013-a-2015\n",
      "2025-08-04 13:13:19,676 - INFO - Lendo arquivo com layout específico: anp/serie_levantamento_precos/mensal-municipios-2016-a-2018.xlsx\n",
      "25/08/04 13:13:35 WARN TaskSetManager: Stage 66 contains a task of very large size (1251 KiB). The maximum recommended task size is 1000 KiB.\n",
      "25/08/04 13:13:35 WARN MemoryManager: Total allocation exceeds 95.00% (1,020,054,720 bytes) of heap memory\n",
      "Scaling row group sizes to 95.00% for 8 writers\n",
      "2025-08-04 13:13:36,801 - INFO - Arquivo salvo com sucesso: s3a://bronze/anp/precos-combustiveis/mensal-municipios-2016-a-2018\n",
      "2025-08-04 13:13:36,802 - INFO - Lendo arquivo com layout específico: anp/serie_levantamento_precos/mensal-municipios-2019-a-2021.xlsx\n",
      "25/08/04 13:13:47 WARN TaskSetManager: Stage 78 contains a task of very large size (1065 KiB). The maximum recommended task size is 1000 KiB.\n",
      "25/08/04 13:13:48 WARN MemoryManager: Total allocation exceeds 95.00% (1,020,054,720 bytes) of heap memory\n",
      "Scaling row group sizes to 95.00% for 8 writers\n",
      "2025-08-04 13:13:49,102 - INFO - Arquivo salvo com sucesso: s3a://bronze/anp/precos-combustiveis/mensal-municipios-2019-a-2021\n",
      "2025-08-04 13:13:49,102 - INFO - Lendo arquivo com layout específico: anp/serie_levantamento_precos/mensal-municipios-jan2022-2025.xlsx\n",
      "25/08/04 13:14:05 WARN TaskSetManager: Stage 90 contains a task of very large size (1069 KiB). The maximum recommended task size is 1000 KiB.\n",
      "25/08/04 13:14:05 WARN MemoryManager: Total allocation exceeds 95.00% (1,020,054,720 bytes) of heap memory\n",
      "Scaling row group sizes to 95.00% for 8 writers\n",
      "2025-08-04 13:14:07,231 - INFO - Arquivo salvo com sucesso: s3a://bronze/anp/precos-combustiveis/mensal-municipios-jan2022-2025\n",
      "2025-08-04 13:14:07,232 - INFO - Lendo arquivo com layout específico: anp/serie_levantamento_precos/mensal-regioes-2001-a-2012.xlsx\n",
      "25/08/04 13:14:08 WARN MemoryManager: Total allocation exceeds 95.00% (1,020,054,720 bytes) of heap memory\n",
      "Scaling row group sizes to 95.00% for 8 writers\n",
      "2025-08-04 13:14:09,576 - INFO - Arquivo salvo com sucesso: s3a://bronze/anp/precos-combustiveis/mensal-regioes-2001-a-2012\n",
      "2025-08-04 13:14:09,577 - INFO - Lendo arquivo com layout específico: anp/serie_levantamento_precos/mensal-regioes-desde-jan2013.xlsx\n",
      "2025-08-04 13:14:12,162 - INFO - Arquivo salvo com sucesso: s3a://bronze/anp/precos-combustiveis/mensal-regioes-desde-jan2013\n"
     ]
    }
   ],
   "source": [
    "# --- Execução principal\n",
    "arquivos = listar_arquivos_xlsx(bucket_landing, prefix_landing)\n",
    "\n",
    "for arquivo in arquivos:\n",
    "    try:\n",
    "        df_pandas = ler_arquivos_anp(bucket_landing, arquivo)\n",
    "        df_spark = spark.createDataFrame(df_pandas)\n",
    "        df_spark_limpo = limpar_nome_colunas_spark(df_spark)\n",
    "        salvar_como_delta(df_spark_limpo, os.path.basename(arquivo))\n",
    "    except Exception as e:\n",
    "        logging.error(f\"Erro ao processar {arquivo}: {e}\")"
   ]
  }
 ],
 "metadata": {
  "kernelspec": {
   "display_name": "projeto-lakehouse (3.12.3)",
   "language": "python",
   "name": "python3"
  },
  "language_info": {
   "codemirror_mode": {
    "name": "ipython",
    "version": 3
   },
   "file_extension": ".py",
   "mimetype": "text/x-python",
   "name": "python",
   "nbconvert_exporter": "python",
   "pygments_lexer": "ipython3",
   "version": "3.12.3"
  }
 },
 "nbformat": 4,
 "nbformat_minor": 5
}
