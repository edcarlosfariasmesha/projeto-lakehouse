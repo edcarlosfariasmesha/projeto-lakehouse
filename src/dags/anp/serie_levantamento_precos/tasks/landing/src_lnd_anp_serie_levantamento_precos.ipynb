{
 "cells": [
  {
   "cell_type": "code",
   "execution_count": 1,
   "id": "dd50ec60",
   "metadata": {},
   "outputs": [],
   "source": [
    "import os\n",
    "import requests\n",
    "import logging\n",
    "from pyspark.sql import SparkSession\n",
    "import json\n",
    "from datetime import datetime\n",
    "from bs4 import BeautifulSoup\n",
    "from urllib.parse import urljoin"
   ]
  },
  {
   "cell_type": "code",
   "execution_count": 2,
   "id": "7681ecd0",
   "metadata": {
    "tags": [
     "parameters"
    ]
   },
   "outputs": [],
   "source": [
    "minio_connection = \"\"  "
   ]
  },
  {
   "cell_type": "code",
   "execution_count": 3,
   "id": "f7401866",
   "metadata": {},
   "outputs": [],
   "source": [
    "# carregar para funcionar\n",
    "try:\n",
    "    minio_conn = json.loads(minio_connection)\n",
    "except json.JSONDecodeError:\n",
    "    with open('../variables/minio_connection.json', \"r\") as minio_connection_file:\n",
    "        minio_conn = json.loads(minio_connection_file.read())"
   ]
  },
  {
   "cell_type": "code",
   "execution_count": 4,
   "id": "191d8a0a",
   "metadata": {},
   "outputs": [],
   "source": [
    "class LazySparkSession:\n",
    "    packages = [\n",
    "        \"io.delta:delta-spark_2.13:4.0.0\",\n",
    "        \"org.apache.hadoop:hadoop-aws:3.4.0\",\n",
    "        \"com.amazonaws:aws-java-sdk-bundle:1.12.787\",\n",
    "    ]\n",
    "\n",
    "    def __init__(self, access_key, secret_key, endpoint):\n",
    "        self._access_key = access_key\n",
    "        self._secret_key = secret_key\n",
    "        self._endpoint = endpoint\n",
    "        \n",
    "\n",
    "    def start(\n",
    "        self,\n",
    "        app_name: str = \"Airflow Spark Delta Minio App\",\n",
    "        executor_memory: str = \"1g\",\n",
    "        driver_memory: str = \"1g\",\n",
    "        driver_maxresultsize: str = \"1g\",\n",
    "        master_url: str = \"local[*]\",\n",
    "    ):\n",
    "\n",
    "        builder = (\n",
    "            SparkSession\n",
    "            .Builder()\n",
    "            .appName(app_name)\n",
    "            .config(\"spark.hadoop.fs.s3a.access.key\", self._access_key)\n",
    "            .config(\"spark.hadoop.fs.s3a.secret.key\", self._secret_key)\n",
    "            .config(\"spark.hadoop.fs.s3a.endpoint\", self._endpoint)\n",
    "            .config(\"spark.hadoop.delta.enableFastS3AListFrom\", \"true\")\n",
    "            #\n",
    "            .config(\"spark.executor.memory\", executor_memory)\n",
    "            .config(\"spark.driver.memory\", driver_memory)\n",
    "            .config(\"spark.driver.maxResultSize\", driver_maxresultsize)\n",
    "            #\n",
    "            .config(\"spark.sql.extensions\", \"io.delta.sql.DeltaSparkSessionExtension\")\n",
    "            #\n",
    "            .config(\"spark.sql.catalog.spark_catalog\", \"org.apache.spark.sql.delta.catalog.DeltaCatalog\")\n",
    "            #\n",
    "            .config(\"spark.jars.packages\", \",\".join(self.packages))\n",
    "            .master(master_url)\n",
    "            .config(\"spark.ui.port\", \"0\")\n",
    "        )\n",
    "\n",
    "        return builder.getOrCreate()"
   ]
  },
  {
   "cell_type": "code",
   "execution_count": 5,
   "id": "d3b73640",
   "metadata": {},
   "outputs": [
    {
     "name": "stderr",
     "output_type": "stream",
     "text": [
      "WARNING: Using incubator modules: jdk.incubator.vector\n",
      "Using Spark's default log4j profile: org/apache/spark/log4j2-defaults.properties\n",
      "25/07/31 15:15:17 WARN Utils: Your hostname, DESKTOP-EDEM2DH, resolves to a loopback address: 127.0.1.1; using 10.255.255.254 instead (on interface lo)\n",
      "25/07/31 15:15:17 WARN Utils: Set SPARK_LOCAL_IP if you need to bind to another address\n",
      ":: loading settings :: url = jar:file:/home/edcarlos/projeto-lakehouse/.venv/lib/python3.12/site-packages/pyspark/jars/ivy-2.5.3.jar!/org/apache/ivy/core/settings/ivysettings.xml\n",
      "Ivy Default Cache set to: /home/edcarlos/.ivy2.5.2/cache\n",
      "The jars for the packages stored in: /home/edcarlos/.ivy2.5.2/jars\n",
      "io.delta#delta-spark_2.13 added as a dependency\n",
      "org.apache.hadoop#hadoop-aws added as a dependency\n",
      "com.amazonaws#aws-java-sdk-bundle added as a dependency\n",
      ":: resolving dependencies :: org.apache.spark#spark-submit-parent-d91f5142-e249-4a82-bd9d-c11356c3dc7e;1.0\n",
      "\tconfs: [default]\n",
      "\tfound io.delta#delta-spark_2.13;4.0.0 in central\n",
      "\tfound io.delta#delta-storage;4.0.0 in central\n",
      "\tfound org.antlr#antlr4-runtime;4.13.1 in central\n",
      "\tfound org.apache.hadoop#hadoop-aws;3.4.0 in central\n",
      "\tfound software.amazon.awssdk#bundle;2.23.19 in central\n",
      "\tfound org.wildfly.openssl#wildfly-openssl;1.1.3.Final in central\n",
      "\tfound com.amazonaws#aws-java-sdk-bundle;1.12.787 in central\n",
      ":: resolution report :: resolve 252ms :: artifacts dl 10ms\n",
      "\t:: modules in use:\n",
      "\tcom.amazonaws#aws-java-sdk-bundle;1.12.787 from central in [default]\n",
      "\tio.delta#delta-spark_2.13;4.0.0 from central in [default]\n",
      "\tio.delta#delta-storage;4.0.0 from central in [default]\n",
      "\torg.antlr#antlr4-runtime;4.13.1 from central in [default]\n",
      "\torg.apache.hadoop#hadoop-aws;3.4.0 from central in [default]\n",
      "\torg.wildfly.openssl#wildfly-openssl;1.1.3.Final from central in [default]\n",
      "\tsoftware.amazon.awssdk#bundle;2.23.19 from central in [default]\n",
      "\t---------------------------------------------------------------------\n",
      "\t|                  |            modules            ||   artifacts   |\n",
      "\t|       conf       | number| search|dwnlded|evicted|| number|dwnlded|\n",
      "\t---------------------------------------------------------------------\n",
      "\t|      default     |   7   |   0   |   0   |   0   ||   7   |   0   |\n",
      "\t---------------------------------------------------------------------\n",
      ":: retrieving :: org.apache.spark#spark-submit-parent-d91f5142-e249-4a82-bd9d-c11356c3dc7e\n",
      "\tconfs: [default]\n",
      "\t0 artifacts copied, 7 already retrieved (0kB/7ms)\n",
      "25/07/31 15:15:18 WARN NativeCodeLoader: Unable to load native-hadoop library for your platform... using builtin-java classes where applicable\n",
      "Using Spark's default log4j profile: org/apache/spark/log4j2-defaults.properties\n",
      "Setting default log level to \"WARN\".\n",
      "To adjust logging level use sc.setLogLevel(newLevel). For SparkR, use setLogLevel(newLevel).\n"
     ]
    }
   ],
   "source": [
    "spark = LazySparkSession(\n",
    "    access_key=minio_conn.get(\"access_key\"), \n",
    "    secret_key=minio_conn.get(\"key\"), \n",
    "    endpoint=minio_conn.get(\"endpoint\")\n",
    ").start()"
   ]
  },
  {
   "cell_type": "code",
   "execution_count": 6,
   "id": "f4def379",
   "metadata": {},
   "outputs": [],
   "source": [
    "# Configuração básica de logging\n",
    "logging.basicConfig(level=logging.INFO, format='%(asctime)s - %(levelname)s - %(message)s')"
   ]
  },
  {
   "cell_type": "code",
   "execution_count": 7,
   "id": "29557c14",
   "metadata": {},
   "outputs": [],
   "source": [
    "url = \"https://www.gov.br/anp/pt-br/assuntos/precos-e-defesa-da-concorrencia/precos/precos-revenda-e-de-distribuicao-combustiveis/serie-historica-do-levantamento-de-precos\""
   ]
  },
  {
   "cell_type": "code",
   "execution_count": 8,
   "id": "904ce9f1",
   "metadata": {},
   "outputs": [],
   "source": [
    "# Faz a requisição da página\n",
    "response = requests.get(url)\n",
    "# Levanta um erro para códigos de status HTTP ruins (4xx ou 5xx)\n",
    "response.raise_for_status() \n",
    "# Faz o parser da página\n",
    "soup = BeautifulSoup(response.text, 'html.parser')"
   ]
  },
  {
   "cell_type": "code",
   "execution_count": 9,
   "id": "e3a309e8",
   "metadata": {},
   "outputs": [],
   "source": [
    "# Extensões de arquivos buscados\n",
    "extensoes = (\".ods\", \".xls\", \".xlsx\", \".csv\", \".zip\", \".json\", \".rar\")"
   ]
  },
  {
   "cell_type": "code",
   "execution_count": 10,
   "id": "643792d3",
   "metadata": {},
   "outputs": [],
   "source": [
    "# Lista para armazenar links encontrados\n",
    "links_de_arquivos = []"
   ]
  },
  {
   "cell_type": "code",
   "execution_count": 11,
   "id": "482de0d4",
   "metadata": {},
   "outputs": [],
   "source": [
    "# Percorre todos os <a> da página com href\n",
    "for link in soup.find_all(\"a\", href=True):\n",
    "    href = link[\"href\"]\n",
    "    texto = link.get_text(strip=True).lower()\n",
    "\n",
    "    # Verifica se termina com alguma extensão de interesse\n",
    "    if any(href.lower().endswith(ext) for ext in extensoes):\n",
    "        if \"mensal\" in href.lower() or \"mensal\" in texto:\n",
    "        # Constrói o link absoluto se for relativo\n",
    "            href_absoluto = urljoin(url, href)\n",
    "            if href_absoluto not in links_de_arquivos:\n",
    "                links_de_arquivos.append(href_absoluto)"
   ]
  },
  {
   "cell_type": "code",
   "execution_count": 12,
   "id": "5f8b42f2",
   "metadata": {},
   "outputs": [],
   "source": [
    "# Lista extraidos com o BeautifulSoup\n",
    "links = [\n",
    "    \"https://www.gov.br/anp/pt-br/assuntos/precos-e-defesa-da-concorrencia/precos/precos-revenda-e-de-distribuicao-combustiveis/shlp/2001-2012/mensal-brasil-2001-a-2012.xlsx\"\n",
    "    \"https://www.gov.br/anp/pt-br/assuntos/precos-e-defesa-da-concorrencia/precos/precos-revenda-e-de-distribuicao-combustiveis/shlp/2001-2012/mensal-regioes-2001-a-2012.xlsx\"\n",
    "    \"https://www.gov.br/anp/pt-br/assuntos/precos-e-defesa-da-concorrencia/precos/precos-revenda-e-de-distribuicao-combustiveis/shlp/2001-2012/mensal-estados-2001-a-2012.xlsx\"\n",
    "    \"https://www.gov.br/anp/pt-br/assuntos/precos-e-defesa-da-concorrencia/precos/precos-revenda-e-de-distribuicao-combustiveis/shlp/mensal/mensal-brasil-desde-jan2013.xlsx\"\n",
    "    \"https://www.gov.br/anp/pt-br/assuntos/precos-e-defesa-da-concorrencia/precos/precos-revenda-e-de-distribuicao-combustiveis/shlp/mensal/mensal-regioes-desde-jan2013.xlsx\"\n",
    "    \"https://www.gov.br/anp/pt-br/assuntos/precos-e-defesa-da-concorrencia/precos/precos-revenda-e-de-distribuicao-combustiveis/shlp/mensal/mensal-estados-desde-jan2013.xlsx\"\n",
    "    \"https://www.gov.br/anp/pt-br/assuntos/precos-e-defesa-da-concorrencia/precos/precos-revenda-e-de-distribuicao-combustiveis/shlp/mensal/mensal-municipios-2013-a-2015.xlsx\"\n",
    "    \"https://www.gov.br/anp/pt-br/assuntos/precos-e-defesa-da-concorrencia/precos/precos-revenda-e-de-distribuicao-combustiveis/shlp/mensal/mensal-municipios-2016-a-2018.xlsx\"\n",
    "    \"https://www.gov.br/anp/pt-br/assuntos/precos-e-defesa-da-concorrencia/precos/precos-revenda-e-de-distribuicao-combustiveis/shlp/mensal/mensal-municipios-2019-a-2021.xlsx\"\n",
    "    \"https://www.gov.br/anp/pt-br/assuntos/precos-e-defesa-da-concorrencia/precos/precos-revenda-e-de-distribuicao-combustiveis/shlp/mensal/mensal-municipios-jan2022-2025.xlsx\"\n",
    "]\n"
   ]
  },
  {
   "cell_type": "code",
   "execution_count": 13,
   "id": "a239224b",
   "metadata": {},
   "outputs": [],
   "source": [
    "def baixar_arquivos_com_metadados(links, pasta_destino=\"download\"):\n",
    "    os.makedirs(pasta_destino, exist_ok=True)\n",
    "    registros = []\n",
    "\n",
    "    for link in links:\n",
    "        nome_arquivo = link.split(\"/\")[-1]\n",
    "        caminho_arquivo = os.path.join(pasta_destino, nome_arquivo)\n",
    "        data_download = datetime.now().isoformat()\n",
    "\n",
    "        try:\n",
    "            resposta = requests.get(link)\n",
    "            if resposta.status_code == 200:\n",
    "                with open(caminho_arquivo, \"wb\") as f:\n",
    "                    f.write(resposta.content)\n",
    "                logging.info(f\"Baixado: {nome_arquivo}\")\n",
    "\n",
    "                registros.append({\n",
    "                    \"nome_arquivo\": nome_arquivo,\n",
    "                    \"link_origem\": link,\n",
    "                    \"caminho_local\": caminho_arquivo,\n",
    "                    \"data_download\": data_download\n",
    "                })\n",
    "            else:\n",
    "                logging.warning(f\"Erro ao baixar: {link} (Status {resposta.status_code})\")\n",
    "        except Exception as e:\n",
    "            logging.error(f\"Erro ao baixar {link} → {e}\", exc_info=True)\n",
    "\n",
    "    return registros"
   ]
  },
  {
   "cell_type": "code",
   "execution_count": 14,
   "id": "dab0128f",
   "metadata": {},
   "outputs": [
    {
     "name": "stderr",
     "output_type": "stream",
     "text": [
      "2025-07-31 15:15:29,375 - INFO - Baixado: mensal-brasil-2001-a-2012.xlsx\n",
      "2025-07-31 15:15:30,339 - INFO - Baixado: mensal-regioes-2001-a-2012.xlsx\n",
      "2025-07-31 15:15:32,403 - INFO - Baixado: mensal-estados-2001-a-2012.xlsx\n",
      "2025-07-31 15:15:32,973 - INFO - Baixado: mensal-brasil-desde-jan2013.xlsx\n",
      "2025-07-31 15:15:33,954 - INFO - Baixado: mensal-regioes-desde-jan2013.xlsx\n",
      "2025-07-31 15:15:36,120 - INFO - Baixado: mensal-estados-desde-jan2013.xlsx\n",
      "2025-07-31 15:15:43,563 - INFO - Baixado: mensal-municipios-2013-a-2015.xlsx\n",
      "2025-07-31 15:15:49,223 - INFO - Baixado: mensal-municipios-2016-a-2018.xlsx\n",
      "2025-07-31 15:15:54,852 - INFO - Baixado: mensal-municipios-2019-a-2021.xlsx\n",
      "2025-07-31 15:16:01,582 - INFO - Baixado: mensal-municipios-jan2022-2025.xlsx\n"
     ]
    }
   ],
   "source": [
    "registros_extraidos = baixar_arquivos_com_metadados(links_de_arquivos)"
   ]
  },
  {
   "cell_type": "code",
   "execution_count": 15,
   "id": "66ed24c0",
   "metadata": {},
   "outputs": [
    {
     "name": "stderr",
     "output_type": "stream",
     "text": [
      "25/07/31 15:16:03 WARN MetricsConfig: Cannot locate configuration: tried hadoop-metrics2-s3a-file-system.properties,hadoop-metrics2.properties\n",
      "SLF4J: Failed to load class \"org.slf4j.impl.StaticLoggerBinder\".\n",
      "SLF4J: Defaulting to no-operation (NOP) logger implementation\n",
      "SLF4J: See http://www.slf4j.org/codes.html#StaticLoggerBinder for further details.\n",
      "25/07/31 15:16:06 WARN SparkStringUtils: Truncated the string representation of a plan since it was too large. This behavior can be adjusted by setting 'spark.sql.debug.maxToStringFields'.\n",
      "25/07/31 15:16:11 WARN MemoryManager: Total allocation exceeds 95.00% (1,020,054,720 bytes) of heap memory\n",
      "Scaling row group sizes to 95.00% for 8 writers\n",
      "25/07/31 15:16:11 WARN S3ABlockOutputStream: Application invoked the Syncable API against stream writing to anp/serie_levantamento_precos/part-00007-78d574e8-9a65-434b-bf5a-92620c0d928f-c000.snappy.parquet. This is Unsupported\n",
      "                                                                                \r"
     ]
    }
   ],
   "source": [
    "df = spark.createDataFrame(registros_extraidos)\n",
    "df.write.format(\"delta\").mode(\"overwrite\").save(\"s3a://landing/anp/serie_levantamento_precos\")\n",
    "spark.stop()"
   ]
  }
 ],
 "metadata": {
  "kernelspec": {
   "display_name": ".venv (3.12.3)",
   "language": "python",
   "name": "python3"
  },
  "language_info": {
   "codemirror_mode": {
    "name": "ipython",
    "version": 3
   },
   "file_extension": ".py",
   "mimetype": "text/x-python",
   "name": "python",
   "nbconvert_exporter": "python",
   "pygments_lexer": "ipython3",
   "version": "3.12.3"
  }
 },
 "nbformat": 4,
 "nbformat_minor": 5
}
