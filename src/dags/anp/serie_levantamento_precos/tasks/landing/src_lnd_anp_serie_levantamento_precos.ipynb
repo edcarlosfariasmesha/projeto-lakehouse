{
 "cells": [
  {
   "cell_type": "code",
   "execution_count": null,
   "id": "dd50ec60",
   "metadata": {},
   "outputs": [],
   "source": [
    "import json\n",
    "import logging\n",
    "import os\n",
    "import time\n",
    "from datetime import datetime\n",
    "from urllib.parse import urljoin\n",
    "\n",
    "import requests\n",
    "from bs4 import BeautifulSoup\n",
    "from minio import Minio"
   ]
  },
  {
   "cell_type": "code",
   "execution_count": null,
   "id": "08bc554c",
   "metadata": {
    "tags": [
     "parameters"
    ]
   },
   "outputs": [],
   "source": [
    "minio_connection = \"\""
   ]
  },
  {
   "cell_type": "code",
   "execution_count": null,
   "id": "d7bb0577",
   "metadata": {},
   "outputs": [],
   "source": [
    "# carregar para funcionar\n",
    "try:\n",
    "    minio_conn = json.loads(minio_connection)\n",
    "except json.JSONDecodeError:\n",
    "    with open('../variables/minio_connection.json', \"r\") as minio_connection_file:\n",
    "        minio_conn = json.loads(minio_connection_file.read())"
   ]
  },
  {
   "cell_type": "code",
   "execution_count": null,
   "id": "57d5ce69",
   "metadata": {},
   "outputs": [],
   "source": [
    "endpoint_raw = minio_conn[\"endpoint\"]\n",
    "endpoint_sem_http = endpoint_raw.replace(\"http://\", \"\").replace(\"https://\", \"\")\n",
    "\n",
    "s3_client = Minio(\n",
    "    endpoint=endpoint_sem_http,\n",
    "    access_key=minio_conn['access_key'],\n",
    "    secret_key=minio_conn['key'],\n",
    "    secure=endpoint_raw.startswith(\"https\")\n",
    ")"
   ]
  },
  {
   "cell_type": "code",
   "execution_count": null,
   "id": "087b284c",
   "metadata": {},
   "outputs": [],
   "source": [
    "# Configuração básica de logging\n",
    "logging.basicConfig(level=logging.INFO, format='%(asctime)s - %(levelname)s - %(message)s')"
   ]
  },
  {
   "cell_type": "code",
   "execution_count": null,
   "id": "82ff87cf",
   "metadata": {},
   "outputs": [],
   "source": [
    "# --- Variáveis do Projeto ---\n",
    "url = \"https://www.gov.br/anp/pt-br/assuntos/precos-e-defesa-da-concorrencia/precos/precos-revenda-e-de-distribuicao-combustiveis/serie-historica-do-levantamento-de-precos\"\n",
    "extensoes_arquivos = ['.xls', '.xlsx', '.zip']\n",
    "bucket_name = \"landing\" \n",
    "s3_prefix = \"anp/serie_levantamento_precos/\" "
   ]
  },
  {
   "cell_type": "code",
   "execution_count": null,
   "id": "a12cddde",
   "metadata": {},
   "outputs": [],
   "source": [
    "def extrair_urls_arquivos(url_pagina, extensoes_permitidas):\n",
    "    \"\"\"\n",
    "    Extrai URLs de arquivos de uma página web, filtrando por extensões e conteúdo.\n",
    "    \"\"\"\n",
    "    logging.info(f\"Acessando a URL: {url_pagina} para extrair links...\")\n",
    "    response = requests.get(url_pagina)\n",
    "    response.raise_for_status()\n",
    "    soup = BeautifulSoup(response.text, 'html.parser')\n",
    "\n",
    "    links_de_arquivos = set() # Usamos um set para evitar duplicatas\n",
    "\n",
    "    for link in soup.find_all(\"a\", href=True):\n",
    "        href = link[\"href\"]\n",
    "        texto = link.get_text(strip=True).lower()\n",
    "        \n",
    "        # Filtra por extensão e conteúdo \"mensal\"\n",
    "        if any(href.lower().endswith(ext) for ext in extensoes_permitidas) and \"mensal\" in (href.lower() + texto):\n",
    "            href_absoluto = urljoin(url_pagina, href)\n",
    "            links_de_arquivos.add(href_absoluto)\n",
    "\n",
    "    logging.info(f\"Encontrados {len(links_de_arquivos)} links para download.\")\n",
    "    return list(links_de_arquivos)"
   ]
  },
  {
   "cell_type": "code",
   "execution_count": null,
   "id": "410d0daa",
   "metadata": {},
   "outputs": [],
   "source": [
    "def baixar_arquivos_com_metadados(links, pasta_destino=\"download\"):\n",
    "    \"\"\"\n",
    "    Baixa arquivos de uma lista de links e retorna metadados.\n",
    "    \"\"\"\n",
    "    os.makedirs(pasta_destino, exist_ok=True)\n",
    "    registros = []\n",
    "    \n",
    "    logging.info(f\"Iniciando o download de {len(links)} arquivos para '{pasta_destino}'...\")\n",
    "\n",
    "    for link in links:\n",
    "        nome_arquivo = link.split(\"/\")[-1]\n",
    "        caminho_arquivo = os.path.join(pasta_destino, nome_arquivo)\n",
    "        data_download = datetime.now().isoformat()\n",
    "\n",
    "        try:\n",
    "            resposta = requests.get(link)\n",
    "            if resposta.status_code == 200:\n",
    "                with open(caminho_arquivo, \"wb\") as f:\n",
    "                    f.write(resposta.content)\n",
    "                logging.info(f\"Baixado: {nome_arquivo}\")\n",
    "\n",
    "                registros.append({\n",
    "                    \"nome_arquivo\": nome_arquivo,\n",
    "                    \"link_origem\": link,\n",
    "                    \"caminho_local\": caminho_arquivo,\n",
    "                    \"data_download\": data_download\n",
    "                })\n",
    "            else:\n",
    "                logging.warning(f\"Erro ao baixar: {link} (Status {resposta.status_code})\")\n",
    "        except Exception as e:\n",
    "            logging.error(f\"Erro ao baixar {link} -> {e}\", exc_info=True)\n",
    "\n",
    "        time.sleep(0.5) # Pausa para não sobrecarregar o servidor\n",
    "    \n",
    "    logging.info(f\"Download finalizado. {len(registros)} arquivos baixados com sucesso.\")\n",
    "    return registros"
   ]
  },
  {
   "cell_type": "code",
   "execution_count": null,
   "id": "2c07c7a5",
   "metadata": {},
   "outputs": [],
   "source": [
    "def upload_files_to_minio(registros_baixados):\n",
    "    \"\"\"\n",
    "    Faz o upload de uma lista de arquivos locais para o MinIO.\n",
    "    \"\"\"\n",
    "    logging.info(f\"\\nIniciando o upload de {len(registros_baixados)} arquivos para o bucket '{bucket_name}'...\")\n",
    "    \n",
    "    for registro in registros_baixados:\n",
    "        caminho_local = registro[\"caminho_local\"]\n",
    "        nome_arquivo = registro[\"nome_arquivo\"]\n",
    "        s3_caminho_destino = s3_prefix + nome_arquivo\n",
    "\n",
    "        try:\n",
    "            s3_client.fput_object(bucket_name, s3_caminho_destino, caminho_local)\n",
    "            logging.info(f\"Upload bem-sucedido: {caminho_local} -> s3a://{bucket_name}/{s3_caminho_destino}\")\n",
    "        except Exception as e:\n",
    "            logging.error(f\"Erro ao fazer o upload do arquivo {nome_arquivo}: {e}\")\n",
    "\n",
    "    logging.info(\"Upload de arquivos finalizado.\")"
   ]
  },
  {
   "cell_type": "code",
   "execution_count": null,
   "id": "d9e69c0b",
   "metadata": {},
   "outputs": [],
   "source": [
    "# 1. Extrair URLs\n",
    "links_de_arquivos = extrair_urls_arquivos(url, extensoes_arquivos)\n",
    "\n",
    "# 2. Baixar arquivos\n",
    "if links_de_arquivos:\n",
    "    registros_baixados = baixar_arquivos_com_metadados(links_de_arquivos)\n",
    "\n",
    "    # 3. Fazer o upload e, em seguida, excluir\n",
    "    if registros_baixados:\n",
    "        try:\n",
    "            upload_files_to_minio(registros_baixados)\n",
    "            logging.info(\"Processo de extração, download e upload finalizado com sucesso.\")\n",
    "        finally:\n",
    "            for registro in registros_baixados:\n",
    "                os.remove(registro['caminho_local'])\n",
    "                logging.info(f\"Arquivo temporário excluído: {registro['caminho_local']}\")\n",
    "    else:\n",
    "        logging.warning(\"Nenhum arquivo foi baixado. O processo de upload não foi iniciado.\")\n",
    "else:\n",
    "    logging.warning(\"Nenhum link de arquivo encontrado. O processo foi encerrado.\")"
   ]
  }
 ],
 "metadata": {
  "kernelspec": {
   "display_name": "projeto-lakehouse (3.12.3)",
   "language": "python",
   "name": "python3"
  },
  "language_info": {
   "codemirror_mode": {
    "name": "ipython",
    "version": 3
   },
   "file_extension": ".py",
   "mimetype": "text/x-python",
   "name": "python",
   "nbconvert_exporter": "python",
   "pygments_lexer": "ipython3",
   "version": "3.12.3"
  }
 },
 "nbformat": 4,
 "nbformat_minor": 5
}
