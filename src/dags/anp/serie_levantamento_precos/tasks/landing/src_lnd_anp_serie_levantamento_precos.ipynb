{
 "cells": [
  {
   "cell_type": "code",
   "execution_count": 1,
   "id": "dd50ec60",
   "metadata": {},
   "outputs": [],
   "source": [
    "import os\n",
    "import requests\n",
    "import logging\n",
    "import json\n",
    "import time\n",
    "from datetime import datetime\n",
    "from bs4 import BeautifulSoup\n",
    "from urllib.parse import urljoin\n",
    "from minio import Minio"
   ]
  },
  {
   "cell_type": "code",
   "execution_count": 2,
   "id": "08bc554c",
   "metadata": {},
   "outputs": [],
   "source": [
    "minio_connection = \"\""
   ]
  },
  {
   "cell_type": "code",
   "execution_count": 3,
   "id": "d7bb0577",
   "metadata": {},
   "outputs": [],
   "source": [
    "# carregar para funcionar\n",
    "try:\n",
    "    minio_conn = json.loads(minio_connection)\n",
    "except json.JSONDecodeError:\n",
    "    with open('../variables/minio_connection.json', \"r\") as minio_connection_file:\n",
    "        minio_conn = json.loads(minio_connection_file.read())"
   ]
  },
  {
   "cell_type": "code",
   "execution_count": 4,
   "id": "57d5ce69",
   "metadata": {},
   "outputs": [],
   "source": [
    "endpoint_raw = minio_conn[\"endpoint\"]\n",
    "endpoint_sem_http = endpoint_raw.replace(\"http://\", \"\").replace(\"https://\", \"\")\n",
    "\n",
    "s3_client = Minio(\n",
    "    endpoint=endpoint_sem_http,\n",
    "    access_key=minio_conn['access_key'],\n",
    "    secret_key=minio_conn['key'],\n",
    "    secure=endpoint_raw.startswith(\"https\")\n",
    ")"
   ]
  },
  {
   "cell_type": "code",
   "execution_count": 5,
   "id": "087b284c",
   "metadata": {},
   "outputs": [],
   "source": [
    "# Configuração básica de logging\n",
    "logging.basicConfig(level=logging.INFO, format='%(asctime)s - %(levelname)s - %(message)s')"
   ]
  },
  {
   "cell_type": "code",
   "execution_count": 6,
   "id": "82ff87cf",
   "metadata": {},
   "outputs": [],
   "source": [
    "# --- Variáveis do Projeto ---\n",
    "url = \"https://www.gov.br/anp/pt-br/assuntos/precos-e-defesa-da-concorrencia/precos/precos-revenda-e-de-distribuicao-combustiveis/serie-historica-do-levantamento-de-precos\"\n",
    "extensoes_arquivos = ['.xls', '.xlsx', '.zip']\n",
    "bucket_name = \"landing\" \n",
    "s3_prefix = \"anp/serie_levantamento_precos/\" "
   ]
  },
  {
   "cell_type": "code",
   "execution_count": 7,
   "id": "a12cddde",
   "metadata": {},
   "outputs": [],
   "source": [
    "def extrair_urls_arquivos(url_pagina, extensoes_permitidas):\n",
    "    \"\"\"\n",
    "    Extrai URLs de arquivos de uma página web, filtrando por extensões e conteúdo.\n",
    "    \"\"\"\n",
    "    logging.info(f\"Acessando a URL: {url_pagina} para extrair links...\")\n",
    "    response = requests.get(url_pagina)\n",
    "    response.raise_for_status()\n",
    "    soup = BeautifulSoup(response.text, 'html.parser')\n",
    "\n",
    "    links_de_arquivos = set() # Usamos um set para evitar duplicatas\n",
    "\n",
    "    for link in soup.find_all(\"a\", href=True):\n",
    "        href = link[\"href\"]\n",
    "        texto = link.get_text(strip=True).lower()\n",
    "        \n",
    "        # Filtra por extensão e conteúdo \"mensal\"\n",
    "        if any(href.lower().endswith(ext) for ext in extensoes_permitidas) and \"mensal\" in (href.lower() + texto):\n",
    "            href_absoluto = urljoin(url_pagina, href)\n",
    "            links_de_arquivos.add(href_absoluto)\n",
    "\n",
    "    logging.info(f\"Encontrados {len(links_de_arquivos)} links para download.\")\n",
    "    return list(links_de_arquivos)"
   ]
  },
  {
   "cell_type": "code",
   "execution_count": 8,
   "id": "410d0daa",
   "metadata": {},
   "outputs": [],
   "source": [
    "def baixar_arquivos_com_metadados(links, pasta_destino=\"download\"):\n",
    "    \"\"\"\n",
    "    Baixa arquivos de uma lista de links e retorna metadados.\n",
    "    \"\"\"\n",
    "    os.makedirs(pasta_destino, exist_ok=True)\n",
    "    registros = []\n",
    "    \n",
    "    logging.info(f\"Iniciando o download de {len(links)} arquivos para '{pasta_destino}'...\")\n",
    "\n",
    "    for link in links:\n",
    "        nome_arquivo = link.split(\"/\")[-1]\n",
    "        caminho_arquivo = os.path.join(pasta_destino, nome_arquivo)\n",
    "        data_download = datetime.now().isoformat()\n",
    "\n",
    "        try:\n",
    "            resposta = requests.get(link)\n",
    "            if resposta.status_code == 200:\n",
    "                with open(caminho_arquivo, \"wb\") as f:\n",
    "                    f.write(resposta.content)\n",
    "                logging.info(f\"Baixado: {nome_arquivo}\")\n",
    "\n",
    "                registros.append({\n",
    "                    \"nome_arquivo\": nome_arquivo,\n",
    "                    \"link_origem\": link,\n",
    "                    \"caminho_local\": caminho_arquivo,\n",
    "                    \"data_download\": data_download\n",
    "                })\n",
    "            else:\n",
    "                logging.warning(f\"Erro ao baixar: {link} (Status {resposta.status_code})\")\n",
    "        except Exception as e:\n",
    "            logging.error(f\"Erro ao baixar {link} -> {e}\", exc_info=True)\n",
    "\n",
    "        time.sleep(0.5) # Pausa para não sobrecarregar o servidor\n",
    "    \n",
    "    logging.info(f\"Download finalizado. {len(registros)} arquivos baixados com sucesso.\")\n",
    "    return registros"
   ]
  },
  {
   "cell_type": "code",
   "execution_count": 9,
   "id": "2c07c7a5",
   "metadata": {},
   "outputs": [],
   "source": [
    "def upload_files_to_minio(registros_baixados):\n",
    "    \"\"\"\n",
    "    Faz o upload de uma lista de arquivos locais para o MinIO.\n",
    "    \"\"\"\n",
    "    logging.info(f\"\\nIniciando o upload de {len(registros_baixados)} arquivos para o bucket '{bucket_name}'...\")\n",
    "    \n",
    "    for registro in registros_baixados:\n",
    "        caminho_local = registro[\"caminho_local\"]\n",
    "        nome_arquivo = registro[\"nome_arquivo\"]\n",
    "        s3_caminho_destino = s3_prefix + nome_arquivo\n",
    "\n",
    "        try:\n",
    "            s3_client.fput_object(bucket_name, s3_caminho_destino, caminho_local)\n",
    "            logging.info(f\"Upload bem-sucedido: {caminho_local} -> s3a://{bucket_name}/{s3_caminho_destino}\")\n",
    "        except Exception as e:\n",
    "            logging.error(f\"Erro ao fazer o upload do arquivo {nome_arquivo}: {e}\")\n",
    "\n",
    "    logging.info(\"Upload de arquivos finalizado.\")"
   ]
  },
  {
   "cell_type": "code",
   "execution_count": 10,
   "id": "d9e69c0b",
   "metadata": {},
   "outputs": [
    {
     "name": "stderr",
     "output_type": "stream",
     "text": [
      "2025-08-01 13:01:08,741 - INFO - Acessando a URL: https://www.gov.br/anp/pt-br/assuntos/precos-e-defesa-da-concorrencia/precos/precos-revenda-e-de-distribuicao-combustiveis/serie-historica-do-levantamento-de-precos para extrair links...\n",
      "2025-08-01 13:01:09,181 - INFO - Encontrados 10 links para download.\n",
      "2025-08-01 13:01:09,184 - INFO - Iniciando o download de 10 arquivos para 'download'...\n",
      "2025-08-01 13:01:16,442 - INFO - Baixado: mensal-municipios-jan2022-2025.xlsx\n",
      "2025-08-01 13:01:17,699 - INFO - Baixado: mensal-regioes-desde-jan2013.xlsx\n",
      "2025-08-01 13:01:23,361 - INFO - Baixado: mensal-municipios-2019-a-2021.xlsx\n",
      "2025-08-01 13:01:25,822 - INFO - Baixado: mensal-estados-2001-a-2012.xlsx\n",
      "2025-08-01 13:01:26,995 - INFO - Baixado: mensal-regioes-2001-a-2012.xlsx\n",
      "2025-08-01 13:01:27,890 - INFO - Baixado: mensal-brasil-desde-jan2013.xlsx\n",
      "2025-08-01 13:01:36,420 - INFO - Baixado: mensal-municipios-2013-a-2015.xlsx\n",
      "2025-08-01 13:01:39,182 - INFO - Baixado: mensal-estados-desde-jan2013.xlsx\n",
      "2025-08-01 13:01:47,562 - INFO - Baixado: mensal-municipios-2016-a-2018.xlsx\n",
      "2025-08-01 13:01:48,147 - INFO - Baixado: mensal-brasil-2001-a-2012.xlsx\n",
      "2025-08-01 13:01:48,155 - INFO - Download finalizado. 10 arquivos baixados com sucesso.\n",
      "2025-08-01 13:01:48,156 - INFO - \n",
      "Iniciando o upload de 10 arquivos para o bucket 'landing'...\n",
      "2025-08-01 13:01:48,276 - INFO - Upload bem-sucedido: download/mensal-municipios-jan2022-2025.xlsx -> s3a://landing/anp/serie_levantamento_precos/mensal-municipios-jan2022-2025.xlsx\n",
      "2025-08-01 13:01:48,301 - INFO - Upload bem-sucedido: download/mensal-regioes-desde-jan2013.xlsx -> s3a://landing/anp/serie_levantamento_precos/mensal-regioes-desde-jan2013.xlsx\n",
      "2025-08-01 13:01:48,411 - INFO - Upload bem-sucedido: download/mensal-municipios-2019-a-2021.xlsx -> s3a://landing/anp/serie_levantamento_precos/mensal-municipios-2019-a-2021.xlsx\n",
      "2025-08-01 13:01:48,448 - INFO - Upload bem-sucedido: download/mensal-estados-2001-a-2012.xlsx -> s3a://landing/anp/serie_levantamento_precos/mensal-estados-2001-a-2012.xlsx\n",
      "2025-08-01 13:01:48,472 - INFO - Upload bem-sucedido: download/mensal-regioes-2001-a-2012.xlsx -> s3a://landing/anp/serie_levantamento_precos/mensal-regioes-2001-a-2012.xlsx\n",
      "2025-08-01 13:01:48,495 - INFO - Upload bem-sucedido: download/mensal-brasil-desde-jan2013.xlsx -> s3a://landing/anp/serie_levantamento_precos/mensal-brasil-desde-jan2013.xlsx\n",
      "2025-08-01 13:01:48,683 - INFO - Upload bem-sucedido: download/mensal-municipios-2013-a-2015.xlsx -> s3a://landing/anp/serie_levantamento_precos/mensal-municipios-2013-a-2015.xlsx\n",
      "2025-08-01 13:01:48,827 - INFO - Upload bem-sucedido: download/mensal-estados-desde-jan2013.xlsx -> s3a://landing/anp/serie_levantamento_precos/mensal-estados-desde-jan2013.xlsx\n",
      "2025-08-01 13:01:49,152 - INFO - Upload bem-sucedido: download/mensal-municipios-2016-a-2018.xlsx -> s3a://landing/anp/serie_levantamento_precos/mensal-municipios-2016-a-2018.xlsx\n",
      "2025-08-01 13:01:49,170 - INFO - Upload bem-sucedido: download/mensal-brasil-2001-a-2012.xlsx -> s3a://landing/anp/serie_levantamento_precos/mensal-brasil-2001-a-2012.xlsx\n",
      "2025-08-01 13:01:49,171 - INFO - Upload de arquivos finalizado.\n",
      "2025-08-01 13:01:49,171 - INFO - Processo de extração, download e upload finalizado com sucesso.\n",
      "2025-08-01 13:01:49,174 - INFO - Arquivo temporário excluído: download/mensal-municipios-jan2022-2025.xlsx\n",
      "2025-08-01 13:01:49,176 - INFO - Arquivo temporário excluído: download/mensal-regioes-desde-jan2013.xlsx\n",
      "2025-08-01 13:01:49,178 - INFO - Arquivo temporário excluído: download/mensal-municipios-2019-a-2021.xlsx\n",
      "2025-08-01 13:01:49,180 - INFO - Arquivo temporário excluído: download/mensal-estados-2001-a-2012.xlsx\n",
      "2025-08-01 13:01:49,181 - INFO - Arquivo temporário excluído: download/mensal-regioes-2001-a-2012.xlsx\n",
      "2025-08-01 13:01:49,182 - INFO - Arquivo temporário excluído: download/mensal-brasil-desde-jan2013.xlsx\n",
      "2025-08-01 13:01:49,185 - INFO - Arquivo temporário excluído: download/mensal-municipios-2013-a-2015.xlsx\n",
      "2025-08-01 13:01:49,187 - INFO - Arquivo temporário excluído: download/mensal-estados-desde-jan2013.xlsx\n",
      "2025-08-01 13:01:49,190 - INFO - Arquivo temporário excluído: download/mensal-municipios-2016-a-2018.xlsx\n",
      "2025-08-01 13:01:49,191 - INFO - Arquivo temporário excluído: download/mensal-brasil-2001-a-2012.xlsx\n"
     ]
    }
   ],
   "source": [
    "# 1. Extrair URLs\n",
    "links_de_arquivos = extrair_urls_arquivos(url, extensoes_arquivos)\n",
    "\n",
    "# 2. Baixar arquivos\n",
    "if links_de_arquivos:\n",
    "    registros_baixados = baixar_arquivos_com_metadados(links_de_arquivos)\n",
    "\n",
    "    # 3. Fazer o upload e, em seguida, excluir\n",
    "    if registros_baixados:\n",
    "        try:\n",
    "            upload_files_to_minio(registros_baixados)\n",
    "            logging.info(\"Processo de extração, download e upload finalizado com sucesso.\")\n",
    "        finally:\n",
    "            for registro in registros_baixados:\n",
    "                os.remove(registro['caminho_local'])\n",
    "                logging.info(f\"Arquivo temporário excluído: {registro['caminho_local']}\")\n",
    "    else:\n",
    "        logging.warning(\"Nenhum arquivo foi baixado. O processo de upload não foi iniciado.\")\n",
    "else:\n",
    "    logging.warning(\"Nenhum link de arquivo encontrado. O processo foi encerrado.\")"
   ]
  }
 ],
 "metadata": {
  "kernelspec": {
   "display_name": "projeto-lakehouse (3.12.3)",
   "language": "python",
   "name": "python3"
  },
  "language_info": {
   "codemirror_mode": {
    "name": "ipython",
    "version": 3
   },
   "file_extension": ".py",
   "mimetype": "text/x-python",
   "name": "python",
   "nbconvert_exporter": "python",
   "pygments_lexer": "ipython3",
   "version": "3.12.3"
  }
 },
 "nbformat": 4,
 "nbformat_minor": 5
}
