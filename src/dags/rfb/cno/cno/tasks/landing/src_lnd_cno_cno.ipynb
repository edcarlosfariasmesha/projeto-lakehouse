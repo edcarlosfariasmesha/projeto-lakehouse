{
 "cells": [
  {
   "cell_type": "code",
   "execution_count": 1,
   "id": "dd50ec60",
   "metadata": {},
   "outputs": [],
   "source": [
    "import requests\n",
    "import logging\n",
    "import zipfile\n",
    "import io\n",
    "import json\n",
    "from minio import Minio"
   ]
  },
  {
   "cell_type": "code",
   "execution_count": 2,
   "id": "966e7833",
   "metadata": {},
   "outputs": [],
   "source": [
    "logging.basicConfig(level=logging.INFO, format='%(asctime)s - %(levelname)s - %(message)s')"
   ]
  },
  {
   "cell_type": "code",
   "execution_count": 3,
   "id": "7681ecd0",
   "metadata": {
    "tags": [
     "parameters"
    ]
   },
   "outputs": [],
   "source": [
    "minio_connection = \"\"  "
   ]
  },
  {
   "cell_type": "code",
   "execution_count": 4,
   "id": "f7401866",
   "metadata": {},
   "outputs": [],
   "source": [
    "# carregar para funcionar\n",
    "try:\n",
    "    minio_conn = json.loads(minio_connection)\n",
    "except json.JSONDecodeError:\n",
    "    with open('../variables/minio_connection.json', \"r\") as minio_connection_file:\n",
    "        minio_conn = json.loads(minio_connection_file.read())"
   ]
  },
  {
   "cell_type": "code",
   "execution_count": 5,
   "id": "8e112eba",
   "metadata": {},
   "outputs": [
    {
     "name": "stderr",
     "output_type": "stream",
     "text": [
      "2025-08-07 17:43:31,343 - INFO - Cliente MinIO criado com sucesso.\n"
     ]
    }
   ],
   "source": [
    "s3_client = None\n",
    "\n",
    "try:\n",
    "    endpoint_raw = minio_conn[\"endpoint\"]\n",
    "    access_key = minio_conn[\"access_key\"]\n",
    "    secret_key = minio_conn[\"key\"]\n",
    "\n",
    "    endpoint_sem_http = endpoint_raw.replace(\"http://\", \"\").replace(\"https://\", \"\")\n",
    "    is_secure = endpoint_raw.startswith(\"https\")\n",
    "\n",
    "    s3_client = Minio(\n",
    "        endpoint=endpoint_sem_http,\n",
    "        access_key=access_key,\n",
    "        secret_key=secret_key,\n",
    "        secure=is_secure\n",
    "    )\n",
    "\n",
    "    logging.info(\"Cliente MinIO criado com sucesso.\")\n",
    "\n",
    "except KeyError as e:\n",
    "    logging.error(f\"Erro de configuração: chave ausente - {e}\")\n",
    "except Exception as e:\n",
    "    logging.error(f\"Erro ao inicializar o cliente MinIO: {e}\")"
   ]
  },
  {
   "cell_type": "code",
   "execution_count": 6,
   "id": "361ee61a",
   "metadata": {},
   "outputs": [],
   "source": [
    "url = \"https://arquivos.receitafederal.gov.br/dados/cno/cno.zip\"\n",
    "bucket = \"landing\"\n",
    "caminho_destino = \"cno/cno/\" "
   ]
  },
  {
   "cell_type": "code",
   "execution_count": 7,
   "id": "66d808ef",
   "metadata": {},
   "outputs": [],
   "source": [
    "def baixar_e_subir_zip_para_minio(url, bucket, caminho_destino):\n",
    "    if not s3_client:\n",
    "        logging.error(\"Cliente MinIO não foi inicializado.\")\n",
    "        return\n",
    "\n",
    "    try:\n",
    "        # 1. Baixar o arquivo .zip da URL\n",
    "        logging.info(f\"Baixando arquivo de {url}\")\n",
    "        response = requests.get(url)\n",
    "        response.raise_for_status()\n",
    "\n",
    "        zip_bytes = io.BytesIO(response.content)\n",
    "\n",
    "        # 2. Abrir o ZIP e iterar sobre os arquivos internos\n",
    "        with zipfile.ZipFile(zip_bytes) as z:\n",
    "            for nome_arquivo in z.namelist():\n",
    "                logging.info(f\"Extraindo: {nome_arquivo}\")\n",
    "\n",
    "                with z.open(nome_arquivo) as arquivo_interno:\n",
    "                    arquivo_bytes = arquivo_interno.read()\n",
    "\n",
    "                    # Caminho final no bucket MinIO (sem alterar o nome do arquivo)\n",
    "                    objeto_minio = f\"{caminho_destino}{nome_arquivo}\"\n",
    "\n",
    "                    # Upload para MinIO\n",
    "                    s3_client.put_object(\n",
    "                        bucket_name=bucket,\n",
    "                        object_name=objeto_minio,\n",
    "                        data=io.BytesIO(arquivo_bytes),\n",
    "                        length=len(arquivo_bytes),\n",
    "                    )\n",
    "\n",
    "                    logging.info(f\"Arquivo {nome_arquivo} enviado para MinIO em {objeto_minio}\")\n",
    "\n",
    "        logging.info(\"Todos os arquivos do ZIP foram processados e enviados para o MinIO com sucesso.\")\n",
    "\n",
    "    except Exception as e:\n",
    "        logging.error(f\"Erro ao processar e enviar arquivos: {e}\")\n",
    "        \n"
   ]
  },
  {
   "cell_type": "code",
   "execution_count": 8,
   "id": "d904c46b",
   "metadata": {},
   "outputs": [
    {
     "name": "stderr",
     "output_type": "stream",
     "text": [
      "2025-08-07 17:43:31,400 - INFO - Baixando arquivo de https://arquivos.receitafederal.gov.br/dados/cno/cno.zip\n",
      "2025-08-07 17:46:21,762 - INFO - Extraindo: cno.csv\n",
      "2025-08-07 17:46:27,766 - INFO - Arquivo cno.csv enviado para MinIO em cno/cno/cno.csv\n",
      "2025-08-07 17:46:27,767 - INFO - Extraindo: cno_cnaes.csv\n",
      "2025-08-07 17:46:28,532 - INFO - Arquivo cno_cnaes.csv enviado para MinIO em cno/cno/cno_cnaes.csv\n",
      "2025-08-07 17:46:28,533 - INFO - Extraindo: cno_vinculos.csv\n",
      "2025-08-07 17:46:28,734 - INFO - Arquivo cno_vinculos.csv enviado para MinIO em cno/cno/cno_vinculos.csv\n",
      "2025-08-07 17:46:28,735 - INFO - Extraindo: cno_areas.csv\n",
      "2025-08-07 17:46:30,645 - INFO - Arquivo cno_areas.csv enviado para MinIO em cno/cno/cno_areas.csv\n",
      "2025-08-07 17:46:30,646 - INFO - Extraindo: cno_totais.csv\n",
      "2025-08-07 17:46:30,703 - INFO - Arquivo cno_totais.csv enviado para MinIO em cno/cno/cno_totais.csv\n",
      "2025-08-07 17:46:30,704 - INFO - Todos os arquivos do ZIP foram processados e enviados para o MinIO com sucesso.\n"
     ]
    }
   ],
   "source": [
    "baixar_e_subir_zip_para_minio(url, bucket, caminho_destino)"
   ]
  }
 ],
 "metadata": {
  "kernelspec": {
   "display_name": "projeto-lakehouse (3.12.3)",
   "language": "python",
   "name": "python3"
  },
  "language_info": {
   "codemirror_mode": {
    "name": "ipython",
    "version": 3
   },
   "file_extension": ".py",
   "mimetype": "text/x-python",
   "name": "python",
   "nbconvert_exporter": "python",
   "pygments_lexer": "ipython3",
   "version": "3.12.3"
  }
 },
 "nbformat": 4,
 "nbformat_minor": 5
}
