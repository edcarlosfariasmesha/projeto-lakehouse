{
 "cells": [
  {
   "cell_type": "code",
   "execution_count": 1,
   "id": "dd50ec60",
   "metadata": {},
   "outputs": [],
   "source": [
    "import logging\n",
    "from pyspark.sql import SparkSession, DataFrame\n",
    "import json\n",
    "from minio import Minio\n",
    "import re\n",
    "import unicodedata"
   ]
  },
  {
   "cell_type": "code",
   "execution_count": 2,
   "id": "966e7833",
   "metadata": {},
   "outputs": [],
   "source": [
    "logging.basicConfig(level=logging.INFO, format='%(asctime)s - %(levelname)s - %(message)s')\n",
    "logger = logging.getLogger(__name__)"
   ]
  },
  {
   "cell_type": "code",
   "execution_count": 3,
   "id": "7681ecd0",
   "metadata": {
    "tags": [
     "parameters"
    ]
   },
   "outputs": [],
   "source": [
    "minio_connection = \"\"  "
   ]
  },
  {
   "cell_type": "code",
   "execution_count": 4,
   "id": "f7401866",
   "metadata": {},
   "outputs": [],
   "source": [
    "# carregar para funcionar\n",
    "try:\n",
    "    minio_conn = json.loads(minio_connection)\n",
    "except json.JSONDecodeError:\n",
    "    with open('../variables/minio_connection.json', \"r\") as minio_connection_file:\n",
    "        minio_conn = json.loads(minio_connection_file.read())"
   ]
  },
  {
   "cell_type": "code",
   "execution_count": 5,
   "id": "6cf70cda",
   "metadata": {},
   "outputs": [],
   "source": [
    "class LazySparkSession:\n",
    "    packages = [\n",
    "        \"io.delta:delta-spark_2.13:4.0.0\",\n",
    "        \"org.apache.hadoop:hadoop-aws:3.4.0\",\n",
    "        \"com.amazonaws:aws-java-sdk-bundle:1.12.787\",\n",
    "    ]\n",
    "\n",
    "    def __init__(self, access_key, secret_key, endpoint):\n",
    "        self._access_key = access_key\n",
    "        self._secret_key = secret_key\n",
    "        self._endpoint = endpoint\n",
    "        \n",
    "\n",
    "    def start(\n",
    "        self,\n",
    "        app_name: str = \"Airflow Spark Delta Minio App\",\n",
    "        executor_memory: str = \"1g\",\n",
    "        driver_memory: str = \"1g\",\n",
    "        driver_maxresultsize: str = \"1g\",\n",
    "        master_url: str = \"local[*]\",\n",
    "    ):\n",
    "\n",
    "        builder = (\n",
    "            SparkSession\n",
    "            .Builder()\n",
    "            .appName(app_name)\n",
    "            .config(\"spark.hadoop.fs.s3a.access.key\", self._access_key)\n",
    "            .config(\"spark.hadoop.fs.s3a.secret.key\", self._secret_key)\n",
    "            .config(\"spark.hadoop.fs.s3a.endpoint\", self._endpoint)\n",
    "            .config(\"spark.hadoop.delta.enableFastS3AListFrom\", \"true\")\n",
    "            #\n",
    "            .config(\"spark.executor.memory\", executor_memory)\n",
    "            .config(\"spark.driver.memory\", driver_memory)\n",
    "            .config(\"spark.driver.maxResultSize\", driver_maxresultsize)\n",
    "            #\n",
    "            .config(\"spark.sql.extensions\", \"io.delta.sql.DeltaSparkSessionExtension\")\n",
    "            #\n",
    "            .config(\"spark.sql.catalog.spark_catalog\", \"org.apache.spark.sql.delta.catalog.DeltaCatalog\")\n",
    "            #\n",
    "            .config(\"spark.jars.packages\", \",\".join(self.packages))\n",
    "            .master(master_url)\n",
    "        )\n",
    "\n",
    "        return builder.getOrCreate()"
   ]
  },
  {
   "cell_type": "code",
   "execution_count": 6,
   "id": "da97e3d2",
   "metadata": {},
   "outputs": [
    {
     "name": "stderr",
     "output_type": "stream",
     "text": [
      "WARNING: Using incubator modules: jdk.incubator.vector\n",
      "Using Spark's default log4j profile: org/apache/spark/log4j2-defaults.properties\n",
      "25/08/08 14:04:02 WARN Utils: Your hostname, DESKTOP-EDEM2DH, resolves to a loopback address: 127.0.1.1; using 10.255.255.254 instead (on interface lo)\n",
      "25/08/08 14:04:02 WARN Utils: Set SPARK_LOCAL_IP if you need to bind to another address\n",
      ":: loading settings :: url = jar:file:/home/edcarlos/projeto-lakehouse/.venv/lib/python3.12/site-packages/pyspark/jars/ivy-2.5.3.jar!/org/apache/ivy/core/settings/ivysettings.xml\n",
      "Ivy Default Cache set to: /home/edcarlos/.ivy2.5.2/cache\n",
      "The jars for the packages stored in: /home/edcarlos/.ivy2.5.2/jars\n",
      "io.delta#delta-spark_2.13 added as a dependency\n",
      "org.apache.hadoop#hadoop-aws added as a dependency\n",
      "com.amazonaws#aws-java-sdk-bundle added as a dependency\n",
      ":: resolving dependencies :: org.apache.spark#spark-submit-parent-0e040eb2-8a94-4f10-ab5a-c12736ce94a7;1.0\n",
      "\tconfs: [default]\n",
      "\tfound io.delta#delta-spark_2.13;4.0.0 in central\n",
      "\tfound io.delta#delta-storage;4.0.0 in central\n",
      "\tfound org.antlr#antlr4-runtime;4.13.1 in central\n",
      "\tfound org.apache.hadoop#hadoop-aws;3.4.0 in central\n",
      "\tfound software.amazon.awssdk#bundle;2.23.19 in central\n",
      "\tfound org.wildfly.openssl#wildfly-openssl;1.1.3.Final in central\n",
      "\tfound com.amazonaws#aws-java-sdk-bundle;1.12.787 in central\n",
      ":: resolution report :: resolve 255ms :: artifacts dl 13ms\n",
      "\t:: modules in use:\n",
      "\tcom.amazonaws#aws-java-sdk-bundle;1.12.787 from central in [default]\n",
      "\tio.delta#delta-spark_2.13;4.0.0 from central in [default]\n",
      "\tio.delta#delta-storage;4.0.0 from central in [default]\n",
      "\torg.antlr#antlr4-runtime;4.13.1 from central in [default]\n",
      "\torg.apache.hadoop#hadoop-aws;3.4.0 from central in [default]\n",
      "\torg.wildfly.openssl#wildfly-openssl;1.1.3.Final from central in [default]\n",
      "\tsoftware.amazon.awssdk#bundle;2.23.19 from central in [default]\n",
      "\t---------------------------------------------------------------------\n",
      "\t|                  |            modules            ||   artifacts   |\n",
      "\t|       conf       | number| search|dwnlded|evicted|| number|dwnlded|\n",
      "\t---------------------------------------------------------------------\n",
      "\t|      default     |   7   |   0   |   0   |   0   ||   7   |   0   |\n",
      "\t---------------------------------------------------------------------\n",
      ":: retrieving :: org.apache.spark#spark-submit-parent-0e040eb2-8a94-4f10-ab5a-c12736ce94a7\n",
      "\tconfs: [default]\n",
      "\t0 artifacts copied, 7 already retrieved (0kB/7ms)\n",
      "25/08/08 14:04:03 WARN NativeCodeLoader: Unable to load native-hadoop library for your platform... using builtin-java classes where applicable\n",
      "Using Spark's default log4j profile: org/apache/spark/log4j2-defaults.properties\n",
      "Setting default log level to \"WARN\".\n",
      "To adjust logging level use sc.setLogLevel(newLevel). For SparkR, use setLogLevel(newLevel).\n"
     ]
    }
   ],
   "source": [
    "spark = LazySparkSession(\n",
    "    access_key=minio_conn.get(\"access_key\"), \n",
    "    secret_key=minio_conn.get(\"key\"), \n",
    "    endpoint=minio_conn.get(\"endpoint\")\n",
    ").start()"
   ]
  },
  {
   "cell_type": "code",
   "execution_count": 7,
   "id": "8e112eba",
   "metadata": {},
   "outputs": [
    {
     "name": "stderr",
     "output_type": "stream",
     "text": [
      "2025-08-08 14:04:12,127 - INFO - Cliente MinIO criado com sucesso.\n"
     ]
    }
   ],
   "source": [
    "s3_client = None\n",
    "\n",
    "try:\n",
    "    endpoint_raw = minio_conn[\"endpoint\"]\n",
    "    access_key = minio_conn[\"access_key\"]\n",
    "    secret_key = minio_conn[\"key\"]\n",
    "\n",
    "    endpoint_sem_http = endpoint_raw.replace(\"http://\", \"\").replace(\"https://\", \"\")\n",
    "    is_secure = endpoint_raw.startswith(\"https\")\n",
    "\n",
    "    s3_client = Minio(\n",
    "        endpoint=endpoint_sem_http,\n",
    "        access_key=access_key,\n",
    "        secret_key=secret_key,\n",
    "        secure=is_secure\n",
    "    )\n",
    "\n",
    "    logging.info(\"Cliente MinIO criado com sucesso.\")\n",
    "\n",
    "except KeyError as e:\n",
    "    logging.error(f\"Erro de configuração: chave ausente - {e}\")\n",
    "except Exception as e:\n",
    "    logging.error(f\"Erro ao inicializar o cliente MinIO: {e}\")"
   ]
  },
  {
   "cell_type": "code",
   "execution_count": 8,
   "id": "96a40fc4",
   "metadata": {},
   "outputs": [],
   "source": [
    "def remover_acentos(txt: str) -> str:\n",
    "    \"\"\"\n",
    "    Remove acentos mantendo a letra original.\n",
    "    \"\"\"\n",
    "    # Normaliza para forma NFD (separa acentos das letras)\n",
    "    nfkd = unicodedata.normalize('NFD', txt)\n",
    "    # Remove os caracteres de acento (categoria Mn = Mark, Nonspacing)\n",
    "    return \"\".join([c for c in nfkd if unicodedata.category(c) != 'Mn'])"
   ]
  },
  {
   "cell_type": "code",
   "execution_count": 9,
   "id": "219ac67f",
   "metadata": {},
   "outputs": [],
   "source": [
    "def padronizar_nome_coluna(nome: str) -> str:\n",
    "    \"\"\"\n",
    "    Padroniza o nome da coluna:\n",
    "    - Remove acentos sem apagar letras\n",
    "    - Converte para minúsculas\n",
    "    - Remove caracteres especiais\n",
    "    - Substitui espaços por \"_\"\n",
    "    \"\"\"\n",
    "    nome = nome.strip().lower()\n",
    "    nome = remover_acentos(nome)\n",
    "    nome = re.sub(r\"[^\\w\\s]\", \"\", nome)  # Mantém letras, números e espaços\n",
    "    nome = re.sub(r\"\\s+\", \"_\", nome)     # Substitui espaços por _\n",
    "    return nome"
   ]
  },
  {
   "cell_type": "code",
   "execution_count": 10,
   "id": "28c6e209",
   "metadata": {},
   "outputs": [],
   "source": [
    "def padronizar_colunas(df: DataFrame) -> DataFrame:\n",
    "    \"\"\"\n",
    "    Aplica padronização em todas as colunas do DataFrame.\n",
    "    \"\"\"\n",
    "    novas_colunas = [padronizar_nome_coluna(c) for c in df.columns]\n",
    "    return df.toDF(*novas_colunas)"
   ]
  },
  {
   "cell_type": "code",
   "execution_count": null,
   "id": "b34ffafd",
   "metadata": {},
   "outputs": [
    {
     "name": "stderr",
     "output_type": "stream",
     "text": [
      "2025-08-08 14:04:12,165 - INFO - Lendo arquivo: s3a://landing/cno/cno/cno_areas.csv\n"
     ]
    }
   ],
   "source": [
    "# Configurar os parâmetros para o arquivo que deseja processar\n",
    "bucket = \"landing\"\n",
    "pasta = \"cno/cno\"\n",
    "nome_arquivo = \"cno_areas.csv\"\n",
    "\n",
    "input_path = f\"s3a://{bucket}/{pasta}/{nome_arquivo}\"\n",
    "output_path = f\"s3a://bronze/cno/cno/cno_areas_delta/\"\n",
    "\n",
    "logger.info(f\"Lendo arquivo: {input_path}\")"
   ]
  },
  {
   "cell_type": "code",
   "execution_count": null,
   "id": "a1619c6d",
   "metadata": {},
   "outputs": [
    {
     "name": "stderr",
     "output_type": "stream",
     "text": [
      "25/08/08 14:04:12 WARN MetricsConfig: Cannot locate configuration: tried hadoop-metrics2-s3a-file-system.properties,hadoop-metrics2.properties\n",
      "SLF4J: Failed to load class \"org.slf4j.impl.StaticLoggerBinder\".\n",
      "SLF4J: Defaulting to no-operation (NOP) logger implementation\n",
      "SLF4J: See http://www.slf4j.org/codes.html#StaticLoggerBinder for further details.\n",
      "2025-08-08 14:04:15,819 - INFO - Colunas originais: ['CNO', 'Categoria', 'Destinação', 'Tipo de obra', 'Tipo de Área', 'Tipo de Área Complementar', 'Metragem']\n"
     ]
    }
   ],
   "source": [
    "# Ler CSV com header\n",
    "df = (\n",
    "    spark.read\n",
    "    .option(\"header\", True)\n",
    "    .option(\"encoding\", \"ISO-8859-1\")\n",
    "    .csv(input_path)\n",
    ")\n",
    "logger.info(f\"Colunas originais: {df.columns}\")"
   ]
  },
  {
   "cell_type": "code",
   "execution_count": 13,
   "id": "e852ab32",
   "metadata": {},
   "outputs": [
    {
     "name": "stderr",
     "output_type": "stream",
     "text": [
      "2025-08-08 14:04:15,840 - INFO - Colunas padronizadas: ['cno', 'categoria', 'destinacao', 'tipo_de_obra', 'tipo_de_area', 'tipo_de_area_complementar', 'metragem']\n"
     ]
    }
   ],
   "source": [
    "# Padronizar nomes das colunas\n",
    "df = padronizar_colunas(df)\n",
    "\n",
    "logger.info(f\"Colunas padronizadas: {df.columns}\")"
   ]
  },
  {
   "cell_type": "code",
   "execution_count": 14,
   "id": "708e07af",
   "metadata": {},
   "outputs": [
    {
     "name": "stderr",
     "output_type": "stream",
     "text": [
      "25/08/08 14:04:17 WARN SparkStringUtils: Truncated the string representation of a plan since it was too large. This behavior can be adjusted by setting 'spark.sql.debug.maxToStringFields'.\n",
      "25/08/08 14:04:21 WARN MemoryManager: Total allocation exceeds 95.00% (1,020,054,720 bytes) of heap memory\n",
      "Scaling row group sizes to 95.00% for 8 writers\n",
      "25/08/08 14:04:24 WARN S3ABlockOutputStream: Application invoked the Syncable API against stream writing to cno/cno/cno_areas_delta/part-00002-5659afd3-aa01-43ad-928f-2f5bc4c99959-c000.snappy.parquet. This is Unsupported\n",
      "2025-08-08 14:04:27,634 - INFO - Arquivo cno_areas.csv processado e salvo em Delta no caminho: s3a://bronze/cno/cno/cno_areas_delta/\n",
      "2025-08-08 14:04:28,752 - INFO - Total de linhas: 3824308                       \n"
     ]
    }
   ],
   "source": [
    "# Salvar em Delta na camada bronze\n",
    "df.write.format(\"delta\").mode(\"overwrite\").option(\"overwriteSchema\", \"true\").save(output_path)\n",
    "\n",
    "logger.info(f\"Arquivo {nome_arquivo} processado e salvo em Delta no caminho: {output_path}\")\n",
    "\n",
    "# Para verificar, conta linhas\n",
    "count = df.count()\n",
    "logger.info(f\"Total de linhas: {count}\")\n"
   ]
  },
  {
   "cell_type": "code",
   "execution_count": 15,
   "id": "9e49da45",
   "metadata": {},
   "outputs": [
    {
     "name": "stdout",
     "output_type": "stream",
     "text": [
      "+------------+---------+-----------------------+------------+------------+-------------------------+--------+\n",
      "|cno         |categoria|destinacao             |tipo_de_obra|tipo_de_area|tipo_de_area_complementar|metragem|\n",
      "+------------+---------+-----------------------+------------+------------+-------------------------+--------+\n",
      "|010010092278|Obra Nova|Comercial salas e lojas|Alvenaria   |Principal   |NULL                     |412.00  |\n",
      "|010010144970|Reforma  |Comercial salas e lojas|Alvenaria   |Principal   |NULL                     |3008.56 |\n",
      "|010010144970|Existente|Comercial salas e lojas|Alvenaria   |Principal   |NULL                     |3008.56 |\n",
      "|010010199274|Demolição|Comercial salas e lojas|Alvenaria   |Principal   |NULL                     |5892.8  |\n",
      "|010010199274|Obra Nova|Comercial salas e lojas|Alvenaria   |Principal   |NULL                     |5892.8  |\n",
      "|010010199274|Existente|Comercial salas e lojas|Alvenaria   |Principal   |NULL                     |5892.8  |\n",
      "|010010199274|Demolição|Comercial salas e lojas|Alvenaria   |Principal   |NULL                     |5892.8  |\n",
      "|010010199274|Obra Nova|Comercial salas e lojas|Alvenaria   |Principal   |NULL                     |5892.8  |\n",
      "|010010251669|Acréscimo|Residencial unifamiliar|Alvenaria   |Principal   |NULL                     |24.21   |\n",
      "|010010251669|Existente|Residencial unifamiliar|Alvenaria   |Principal   |NULL                     |354.00  |\n",
      "|010010287967|Obra Nova|Residencial unifamiliar|Alvenaria   |Principal   |NULL                     |381.29  |\n",
      "|010010627767|Obra Nova|Residencial unifamiliar|Alvenaria   |Principal   |NULL                     |355.45  |\n",
      "|010010840867|Obra Nova|Residencial unifamiliar|Alvenaria   |Principal   |NULL                     |693.24  |\n",
      "|010010949160|Obra Nova|Residencial unifamiliar|Alvenaria   |Principal   |NULL                     |267.49  |\n",
      "|010010962365|Obra Nova|Residencial unifamiliar|Alvenaria   |Principal   |NULL                     |414.73  |\n",
      "|010010965467|Obra Nova|Residencial unifamiliar|Alvenaria   |Complementar|Piscina                  |80.00   |\n",
      "|010010965467|Obra Nova|Residencial unifamiliar|Alvenaria   |Principal   |NULL                     |15.00   |\n",
      "|010010965467|Obra Nova|Residencial unifamiliar|Alvenaria   |Complementar|Estacionamento Térreo    |90.00   |\n",
      "|010011030062|Obra Nova|Residencial unifamiliar|Alvenaria   |Principal   |NULL                     |144.8   |\n",
      "|010011090267|Obra Nova|Comercial salas e lojas|Alvenaria   |Principal   |NULL                     |853.89  |\n",
      "+------------+---------+-----------------------+------------+------------+-------------------------+--------+\n",
      "only showing top 20 rows\n"
     ]
    }
   ],
   "source": [
    "df.show(20, truncate=False)"
   ]
  },
  {
   "cell_type": "code",
   "execution_count": 16,
   "id": "d904c46b",
   "metadata": {},
   "outputs": [],
   "source": [
    "\n",
    "spark.stop()"
   ]
  }
 ],
 "metadata": {
  "kernelspec": {
   "display_name": "projeto-lakehouse (3.12.3)",
   "language": "python",
   "name": "python3"
  },
  "language_info": {
   "codemirror_mode": {
    "name": "ipython",
    "version": 3
   },
   "file_extension": ".py",
   "mimetype": "text/x-python",
   "name": "python",
   "nbconvert_exporter": "python",
   "pygments_lexer": "ipython3",
   "version": "3.12.3"
  }
 },
 "nbformat": 4,
 "nbformat_minor": 5
}
