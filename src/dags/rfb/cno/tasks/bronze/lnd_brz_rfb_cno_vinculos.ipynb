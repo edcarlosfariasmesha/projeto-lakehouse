{
 "cells": [
  {
   "cell_type": "code",
   "execution_count": null,
   "id": "dd50ec60",
   "metadata": {},
   "outputs": [],
   "source": [
    "import json\n",
    "import logging\n",
    "import re\n",
    "import unicodedata\n",
    "\n",
    "from minio import Minio\n",
    "from pyspark.sql import DataFrame, SparkSession"
   ]
  },
  {
   "cell_type": "code",
   "execution_count": 2,
   "id": "966e7833",
   "metadata": {},
   "outputs": [],
   "source": [
    "logging.basicConfig(level=logging.INFO, format='%(asctime)s - %(levelname)s - %(message)s')\n",
    "logger = logging.getLogger(__name__)"
   ]
  },
  {
   "cell_type": "code",
   "execution_count": 3,
   "id": "7681ecd0",
   "metadata": {
    "tags": [
     "parameters"
    ]
   },
   "outputs": [],
   "source": [
    "minio_connection = \"\"  "
   ]
  },
  {
   "cell_type": "code",
   "execution_count": 4,
   "id": "f7401866",
   "metadata": {},
   "outputs": [],
   "source": [
    "# carregar para funcionar\n",
    "try:\n",
    "    minio_conn = json.loads(minio_connection)\n",
    "except json.JSONDecodeError:\n",
    "    with open('../variables/minio_connection.json', \"r\") as minio_connection_file:\n",
    "        minio_conn = json.loads(minio_connection_file.read())"
   ]
  },
  {
   "cell_type": "code",
   "execution_count": 5,
   "id": "1f898769",
   "metadata": {},
   "outputs": [],
   "source": [
    "class LazySparkSession:\n",
    "    packages = [\n",
    "        \"io.delta:delta-spark_2.13:4.0.0\",\n",
    "        \"org.apache.hadoop:hadoop-aws:3.4.0\",\n",
    "        \"com.amazonaws:aws-java-sdk-bundle:1.12.787\",\n",
    "    ]\n",
    "\n",
    "    def __init__(self, access_key, secret_key, endpoint):\n",
    "        self._access_key = access_key\n",
    "        self._secret_key = secret_key\n",
    "        self._endpoint = endpoint\n",
    "        \n",
    "\n",
    "    def start(\n",
    "        self,\n",
    "        app_name: str = \"Airflow Spark Delta Minio App\",\n",
    "        executor_memory: str = \"1g\",\n",
    "        driver_memory: str = \"1g\",\n",
    "        driver_maxresultsize: str = \"1g\",\n",
    "        master_url: str = \"local[*]\",\n",
    "    ):\n",
    "\n",
    "        builder = (\n",
    "            SparkSession\n",
    "            .Builder()\n",
    "            .appName(app_name)\n",
    "            .config(\"spark.hadoop.fs.s3a.access.key\", self._access_key)\n",
    "            .config(\"spark.hadoop.fs.s3a.secret.key\", self._secret_key)\n",
    "            .config(\"spark.hadoop.fs.s3a.endpoint\", self._endpoint)\n",
    "            .config(\"spark.hadoop.delta.enableFastS3AListFrom\", \"true\")\n",
    "            #\n",
    "            .config(\"spark.executor.memory\", executor_memory)\n",
    "            .config(\"spark.driver.memory\", driver_memory)\n",
    "            .config(\"spark.driver.maxResultSize\", driver_maxresultsize)\n",
    "            #\n",
    "            .config(\"spark.sql.extensions\", \"io.delta.sql.DeltaSparkSessionExtension\")\n",
    "            #\n",
    "            .config(\"spark.sql.catalog.spark_catalog\", \"org.apache.spark.sql.delta.catalog.DeltaCatalog\")\n",
    "            #\n",
    "            .config(\"spark.jars.packages\", \",\".join(self.packages))\n",
    "            .master(master_url)\n",
    "        )\n",
    "\n",
    "        return builder.getOrCreate()"
   ]
  },
  {
   "cell_type": "code",
   "execution_count": 6,
   "id": "0d823fcd",
   "metadata": {},
   "outputs": [
    {
     "name": "stderr",
     "output_type": "stream",
     "text": [
      "WARNING: Using incubator modules: jdk.incubator.vector\n",
      "Using Spark's default log4j profile: org/apache/spark/log4j2-defaults.properties\n",
      "25/08/08 14:03:20 WARN Utils: Your hostname, DESKTOP-EDEM2DH, resolves to a loopback address: 127.0.1.1; using 10.255.255.254 instead (on interface lo)\n",
      "25/08/08 14:03:20 WARN Utils: Set SPARK_LOCAL_IP if you need to bind to another address\n",
      ":: loading settings :: url = jar:file:/home/edcarlos/projeto-lakehouse/.venv/lib/python3.12/site-packages/pyspark/jars/ivy-2.5.3.jar!/org/apache/ivy/core/settings/ivysettings.xml\n",
      "Ivy Default Cache set to: /home/edcarlos/.ivy2.5.2/cache\n",
      "The jars for the packages stored in: /home/edcarlos/.ivy2.5.2/jars\n",
      "io.delta#delta-spark_2.13 added as a dependency\n",
      "org.apache.hadoop#hadoop-aws added as a dependency\n",
      "com.amazonaws#aws-java-sdk-bundle added as a dependency\n",
      ":: resolving dependencies :: org.apache.spark#spark-submit-parent-6bb183e3-cdfb-4b76-aeb0-f4ce6fd68c4d;1.0\n",
      "\tconfs: [default]\n",
      "\tfound io.delta#delta-spark_2.13;4.0.0 in central\n",
      "\tfound io.delta#delta-storage;4.0.0 in central\n",
      "\tfound org.antlr#antlr4-runtime;4.13.1 in central\n",
      "\tfound org.apache.hadoop#hadoop-aws;3.4.0 in central\n",
      "\tfound software.amazon.awssdk#bundle;2.23.19 in central\n",
      "\tfound org.wildfly.openssl#wildfly-openssl;1.1.3.Final in central\n",
      "\tfound com.amazonaws#aws-java-sdk-bundle;1.12.787 in central\n",
      ":: resolution report :: resolve 261ms :: artifacts dl 12ms\n",
      "\t:: modules in use:\n",
      "\tcom.amazonaws#aws-java-sdk-bundle;1.12.787 from central in [default]\n",
      "\tio.delta#delta-spark_2.13;4.0.0 from central in [default]\n",
      "\tio.delta#delta-storage;4.0.0 from central in [default]\n",
      "\torg.antlr#antlr4-runtime;4.13.1 from central in [default]\n",
      "\torg.apache.hadoop#hadoop-aws;3.4.0 from central in [default]\n",
      "\torg.wildfly.openssl#wildfly-openssl;1.1.3.Final from central in [default]\n",
      "\tsoftware.amazon.awssdk#bundle;2.23.19 from central in [default]\n",
      "\t---------------------------------------------------------------------\n",
      "\t|                  |            modules            ||   artifacts   |\n",
      "\t|       conf       | number| search|dwnlded|evicted|| number|dwnlded|\n",
      "\t---------------------------------------------------------------------\n",
      "\t|      default     |   7   |   0   |   0   |   0   ||   7   |   0   |\n",
      "\t---------------------------------------------------------------------\n",
      ":: retrieving :: org.apache.spark#spark-submit-parent-6bb183e3-cdfb-4b76-aeb0-f4ce6fd68c4d\n",
      "\tconfs: [default]\n",
      "\t0 artifacts copied, 7 already retrieved (0kB/8ms)\n",
      "25/08/08 14:03:21 WARN NativeCodeLoader: Unable to load native-hadoop library for your platform... using builtin-java classes where applicable\n",
      "Using Spark's default log4j profile: org/apache/spark/log4j2-defaults.properties\n",
      "Setting default log level to \"WARN\".\n",
      "To adjust logging level use sc.setLogLevel(newLevel). For SparkR, use setLogLevel(newLevel).\n"
     ]
    }
   ],
   "source": [
    "spark = LazySparkSession(\n",
    "    access_key=minio_conn.get(\"access_key\"), \n",
    "    secret_key=minio_conn.get(\"key\"), \n",
    "    endpoint=minio_conn.get(\"endpoint\")\n",
    ").start()"
   ]
  },
  {
   "cell_type": "code",
   "execution_count": 7,
   "id": "8e112eba",
   "metadata": {},
   "outputs": [
    {
     "name": "stderr",
     "output_type": "stream",
     "text": [
      "2025-08-08 14:03:30,959 - INFO - Cliente MinIO criado com sucesso.\n"
     ]
    }
   ],
   "source": [
    "s3_client = None\n",
    "\n",
    "try:\n",
    "    endpoint_raw = minio_conn[\"endpoint\"]\n",
    "    access_key = minio_conn[\"access_key\"]\n",
    "    secret_key = minio_conn[\"key\"]\n",
    "\n",
    "    endpoint_sem_http = endpoint_raw.replace(\"http://\", \"\").replace(\"https://\", \"\")\n",
    "    is_secure = endpoint_raw.startswith(\"https\")\n",
    "\n",
    "    s3_client = Minio(\n",
    "        endpoint=endpoint_sem_http,\n",
    "        access_key=access_key,\n",
    "        secret_key=secret_key,\n",
    "        secure=is_secure\n",
    "    )\n",
    "\n",
    "    logging.info(\"Cliente MinIO criado com sucesso.\")\n",
    "\n",
    "except KeyError as e:\n",
    "    logging.error(f\"Erro de configuração: chave ausente - {e}\")\n",
    "except Exception as e:\n",
    "    logging.error(f\"Erro ao inicializar o cliente MinIO: {e}\")"
   ]
  },
  {
   "cell_type": "code",
   "execution_count": 8,
   "id": "2cac2f35",
   "metadata": {},
   "outputs": [],
   "source": [
    "def remover_acentos(txt: str) -> str:\n",
    "    \"\"\"\n",
    "    Remove acentos mantendo a letra original.\n",
    "    \"\"\"\n",
    "    # Normaliza para forma NFD (separa acentos das letras)\n",
    "    nfkd = unicodedata.normalize('NFD', txt)\n",
    "    # Remove os caracteres de acento (categoria Mn = Mark, Nonspacing)\n",
    "    return \"\".join([c for c in nfkd if unicodedata.category(c) != 'Mn'])"
   ]
  },
  {
   "cell_type": "code",
   "execution_count": 9,
   "id": "139e4302",
   "metadata": {},
   "outputs": [],
   "source": [
    "def padronizar_nome_coluna(nome: str) -> str:\n",
    "    \"\"\"\n",
    "    Padroniza o nome da coluna:\n",
    "    - Remove acentos sem apagar letras\n",
    "    - Converte para minúsculas\n",
    "    - Remove caracteres especiais\n",
    "    - Substitui espaços por \"_\"\n",
    "    \"\"\"\n",
    "    nome = nome.strip().lower()\n",
    "    nome = remover_acentos(nome)\n",
    "    nome = re.sub(r\"[^\\w\\s]\", \"\", nome)  # Mantém letras, números e espaços\n",
    "    nome = re.sub(r\"\\s+\", \"_\", nome)     # Substitui espaços por _\n",
    "    return nome"
   ]
  },
  {
   "cell_type": "code",
   "execution_count": 10,
   "id": "f21de252",
   "metadata": {},
   "outputs": [],
   "source": [
    "def padronizar_colunas(df: DataFrame) -> DataFrame:\n",
    "    \"\"\"\n",
    "    Aplica padronização em todas as colunas do DataFrame.\n",
    "    \"\"\"\n",
    "    novas_colunas = [padronizar_nome_coluna(c) for c in df.columns]\n",
    "    return df.toDF(*novas_colunas)"
   ]
  },
  {
   "cell_type": "code",
   "execution_count": 11,
   "id": "c79e51a8",
   "metadata": {},
   "outputs": [
    {
     "name": "stderr",
     "output_type": "stream",
     "text": [
      "2025-08-08 14:03:30,994 - INFO - Lendo arquivo: s3a://landing/cno/cno/cno_vinculos.csv\n"
     ]
    }
   ],
   "source": [
    "# Configurar os parâmetros para o arquivo que deseja processar\n",
    "bucket = \"landing\"\n",
    "pasta = \"cno/cno\"\n",
    "nome_arquivo = \"cno_vinculos.csv\"\n",
    "\n",
    "input_path = f\"s3a://{bucket}/{pasta}/{nome_arquivo}\"\n",
    "output_path = f\"s3a://bronze/cno/cno/cno_vinculos_delta/\"\n",
    "\n",
    "logger.info(f\"Lendo arquivo: {input_path}\")"
   ]
  },
  {
   "cell_type": "code",
   "execution_count": null,
   "id": "497459a0",
   "metadata": {},
   "outputs": [
    {
     "name": "stderr",
     "output_type": "stream",
     "text": [
      "25/08/08 14:03:31 WARN MetricsConfig: Cannot locate configuration: tried hadoop-metrics2-s3a-file-system.properties,hadoop-metrics2.properties\n",
      "SLF4J: Failed to load class \"org.slf4j.impl.StaticLoggerBinder\".\n",
      "SLF4J: Defaulting to no-operation (NOP) logger implementation\n",
      "SLF4J: See http://www.slf4j.org/codes.html#StaticLoggerBinder for further details.\n",
      "2025-08-08 14:03:34,815 - INFO - Colunas originais: ['CNO', 'Data de início', 'Data de fim', 'Data de registro', 'Qualificação do contribuinte', 'NI do responsável']\n"
     ]
    }
   ],
   "source": [
    "# Ler CSV com header\n",
    "df = (\n",
    "    spark.read\n",
    "    .option(\"header\", True)\n",
    "    .option(\"encoding\", \"ISO-8859-1\") \n",
    "    .csv(input_path)\n",
    ")\n",
    "logger.info(f\"Colunas originais: {df.columns}\")"
   ]
  },
  {
   "cell_type": "code",
   "execution_count": 13,
   "id": "b3e8488b",
   "metadata": {},
   "outputs": [
    {
     "name": "stderr",
     "output_type": "stream",
     "text": [
      "2025-08-08 14:03:34,838 - INFO - Colunas padronizadas: ['cno', 'data_de_inicio', 'data_de_fim', 'data_de_registro', 'qualificacao_do_contribuinte', 'ni_do_responsavel']\n"
     ]
    }
   ],
   "source": [
    "# Padronizar nomes das colunas\n",
    "df = padronizar_colunas(df)\n",
    "\n",
    "logger.info(f\"Colunas padronizadas: {df.columns}\")"
   ]
  },
  {
   "cell_type": "code",
   "execution_count": 14,
   "id": "2e5186d3",
   "metadata": {},
   "outputs": [
    {
     "name": "stderr",
     "output_type": "stream",
     "text": [
      "25/08/08 14:03:35 WARN SparkStringUtils: Truncated the string representation of a plan since it was too large. This behavior can be adjusted by setting 'spark.sql.debug.maxToStringFields'.\n",
      "25/08/08 14:03:40 WARN S3ABlockOutputStream: Application invoked the Syncable API against stream writing to cno/cno/cno_vinculos_delta/part-00003-0d183312-5a08-4c26-98f5-422b64b50baa-c000.snappy.parquet. This is Unsupported\n",
      "2025-08-08 14:03:41,636 - INFO - Arquivo cno_vinculos.csv processado e salvo em Delta no caminho: s3a://bronze/cno/cno/cno_vinculos_delta/\n",
      "2025-08-08 14:03:41,907 - INFO - Total de linhas: 361226\n"
     ]
    }
   ],
   "source": [
    "# Salvar em Delta na camada bronze\n",
    "df.write.format(\"delta\").mode(\"overwrite\").option(\"overwriteSchema\", \"true\").save(output_path)\n",
    "\n",
    "logger.info(f\"Arquivo {nome_arquivo} processado e salvo em Delta no caminho: {output_path}\")\n",
    "\n",
    "# Para verificar, conta linhas\n",
    "count = df.count()\n",
    "logger.info(f\"Total de linhas: {count}\")"
   ]
  },
  {
   "cell_type": "code",
   "execution_count": 15,
   "id": "2bf6c88c",
   "metadata": {},
   "outputs": [
    {
     "name": "stdout",
     "output_type": "stream",
     "text": [
      "+------------+--------------+-----------+----------------+----------------------------+-----------------+\n",
      "|cno         |data_de_inicio|data_de_fim|data_de_registro|qualificacao_do_contribuinte|ni_do_responsavel|\n",
      "+------------+--------------+-----------+----------------+----------------------------+-----------------+\n",
      "|030280771774|1988-08-01    |NULL       |2022-05-26      |0053                        |NULL             |\n",
      "|042753047960|2025-05-23    |NULL       |2025-05-23      |0110                        |NULL             |\n",
      "|050450073079|2002-11-30    |NULL       |2021-10-14      |0053                        |04892707001697   |\n",
      "|059010928370|2020-09-23    |NULL       |2020-10-23      |0053                        |30404335002856   |\n",
      "|060261656362|1996-04-03    |NULL       |2023-08-15      |0110                        |NULL             |\n",
      "|060261656362|1996-04-03    |NULL       |2023-08-15      |0110                        |NULL             |\n",
      "|089020026377|2004-06-18    |NULL       |2022-03-31      |0053                        |37606209000103   |\n",
      "|100170132179|1992-02-18    |NULL       |2021-09-23      |0053                        |34028316001690   |\n",
      "|100350147774|1993-07-19    |NULL       |2021-09-27      |0053                        |00000000000191   |\n",
      "|100840245771|1991-11-04    |NULL       |2021-09-27      |0053                        |NULL             |\n",
      "|100840249870|1993-09-28    |NULL       |2021-09-27      |0053                        |34028316001690   |\n",
      "|100840263078|1992-07-21    |NULL       |2021-09-19      |0053                        |NULL             |\n",
      "|100890135975|1992-06-19    |NULL       |2021-09-27      |0053                        |34028316001690   |\n",
      "|101450000877|1991-03-05    |NULL       |2021-09-27      |0053                        |26989350002240   |\n",
      "|110160590065|1995-05-01    |NULL       |2020-11-09      |0110                        |NULL             |\n",
      "|110160611064|2013-05-01    |NULL       |2020-12-20      |0110                        |NULL             |\n",
      "|110260329260|1994-03-01    |NULL       |2025-03-17      |0110                        |NULL             |\n",
      "|110420308967|1986-10-08    |NULL       |2021-12-30      |0110                        |NULL             |\n",
      "|110560150373|1994-01-01    |NULL       |2023-11-16      |0053                        |NULL             |\n",
      "|110800131779|1993-03-01    |NULL       |2019-03-22      |0053                        |17309790000194   |\n",
      "+------------+--------------+-----------+----------------+----------------------------+-----------------+\n",
      "only showing top 20 rows\n"
     ]
    }
   ],
   "source": [
    "df.show(20, truncate=False)"
   ]
  },
  {
   "cell_type": "code",
   "execution_count": 16,
   "id": "d7dbc6fb",
   "metadata": {},
   "outputs": [],
   "source": [
    "spark.stop()"
   ]
  }
 ],
 "metadata": {
  "kernelspec": {
   "display_name": "projeto-lakehouse (3.12.3)",
   "language": "python",
   "name": "python3"
  },
  "language_info": {
   "codemirror_mode": {
    "name": "ipython",
    "version": 3
   },
   "file_extension": ".py",
   "mimetype": "text/x-python",
   "name": "python",
   "nbconvert_exporter": "python",
   "pygments_lexer": "ipython3",
   "version": "3.12.3"
  }
 },
 "nbformat": 4,
 "nbformat_minor": 5
}
